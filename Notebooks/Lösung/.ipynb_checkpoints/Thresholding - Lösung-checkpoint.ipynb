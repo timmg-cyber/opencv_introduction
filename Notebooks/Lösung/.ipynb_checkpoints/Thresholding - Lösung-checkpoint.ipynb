{
 "cells": [
  {
   "cell_type": "code",
   "execution_count": 2,
   "id": "ee56a6a7-a093-446d-8157-c74275b2c8cf",
   "metadata": {},
   "outputs": [],
   "source": [
    "import cv2\n",
    "import numpy as np"
   ]
  },
  {
   "cell_type": "markdown",
   "id": "2d091ee3-a70c-4c39-9520-9f465402ff89",
   "metadata": {},
   "source": [
    "In diesem Notebook lernen Sie Thresholding-Methoden zum extrahieren relevanter Bildobjekte zu nutzen"
   ]
  },
  {
   "cell_type": "markdown",
   "id": "b8e87c6e-6900-4199-9405-430c2490f37b",
   "metadata": {},
   "source": [
    "Lesen Sie die black_apple.jpg-Datei aus dem Quellordner ein und zeigen Sie diese mit der imread()-Methode an "
   ]
  },
  {
   "cell_type": "code",
   "execution_count": 20,
   "id": "e2e8da1f-921a-439c-abc6-af2fb0e19044",
   "metadata": {},
   "outputs": [],
   "source": [
    "path = \"../../Pictures/examples/black_apple.png\" ##Ihr Pfad wird anders sein\n",
    "img = cv2.imread(path,0)\n",
    "\n",
    "cv2.imshow('image',img)\n",
    "cv2.waitKey(0)\n",
    "cv2.destroyAllWindows()"
   ]
  },
  {
   "cell_type": "markdown",
   "id": "6ba18454-bae1-403f-847b-d39b594a89bf",
   "metadata": {},
   "source": [
    "Versuchen Sie so viel wie möglich von den Äpfeln in dem Thresholding zu erfassen. Versuchen Sie dafür mehrere Kombinationen der Parameter aus"
   ]
  },
  {
   "cell_type": "code",
   "execution_count": 50,
   "id": "1a3889a6-d6e6-4df9-97a2-c369a501a883",
   "metadata": {},
   "outputs": [],
   "source": [
    "img = cv2.medianBlur(img,5)\n",
    "\n",
    "##simple Thresholding\n",
    "_, th1 = cv2.threshold(img,120,255,cv2.THRESH_BINARY_INV)\n",
    "\n",
    "##adaptive Thresholding\n",
    "th2 = cv2.adaptiveThreshold(img, 255, cv2.ADAPTIVE_THRESH_GAUSSIAN_C, cv2.THRESH_BINARY, 11, 2)\n",
    "\n",
    "cv2.imshow('image',img)\n",
    "cv2.imshow('th1', th1)\n",
    "cv2.imshow('th2', th2)\n",
    "cv2.waitKey(0)\n",
    "cv2.destroyAllWindows()"
   ]
  }
 ],
 "metadata": {
  "kernelspec": {
   "display_name": "Python 3 (ipykernel)",
   "language": "python",
   "name": "python3"
  },
  "language_info": {
   "codemirror_mode": {
    "name": "ipython",
    "version": 3
   },
   "file_extension": ".py",
   "mimetype": "text/x-python",
   "name": "python",
   "nbconvert_exporter": "python",
   "pygments_lexer": "ipython3",
   "version": "3.10.13"
  }
 },
 "nbformat": 4,
 "nbformat_minor": 5
}
