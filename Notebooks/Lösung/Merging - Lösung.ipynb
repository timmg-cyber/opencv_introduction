{
 "cells": [
  {
   "cell_type": "code",
   "execution_count": 1,
   "id": "18d5625d-98d8-4c47-bcd3-2e7ea94dac5f",
   "metadata": {},
   "outputs": [],
   "source": [
    "import cv2\n",
    "import numpy as np"
   ]
  },
  {
   "cell_type": "markdown",
   "id": "43d72024-37fc-4bf8-86c8-4bb7b7e77c24",
   "metadata": {},
   "source": [
    "In diesem Notebook lernen Sie wie Sie Bilder in OpenCV zusammenfügen können und Transition-Effekte einfügen."
   ]
  },
  {
   "cell_type": "markdown",
   "id": "31e21f9c-8dea-48d4-bc48-555e73249583",
   "metadata": {},
   "source": [
    "Lesen Sie das OpenCV-Logo als Bild mit der imread()-Methode ein"
   ]
  },
  {
   "cell_type": "code",
   "execution_count": 2,
   "id": "f0617cce-bf9b-4332-aca5-da3eee59da63",
   "metadata": {},
   "outputs": [],
   "source": [
    "path = \"../../Pictures/data/opencv-logo.png\"\n",
    "logo = cv2.imread(path)"
   ]
  },
  {
   "cell_type": "markdown",
   "id": "876005bd-0adb-488b-a25d-f8ca370c851e",
   "metadata": {},
   "source": [
    "Erstellen Sie nun einen schwarzen Hintergrund mit der np.zeros-Methode und fügen Sie den Hintergrund mit dem OpenCV-Logo zusammen"
   ]
  },
  {
   "cell_type": "code",
   "execution_count": 3,
   "id": "da6f9a54-8377-433d-9953-5226f6f26a80",
   "metadata": {},
   "outputs": [],
   "source": [
    "blank = np.zeros([512,512,3],np.uint8)\n",
    "\n",
    "## Adding two Pictures\n",
    "logo = cv2.resize(logo, (512,512))\n",
    "added_img = cv2.add(blank,logo)\n",
    "\n",
    "cv2.imshow('image',added_img)\n",
    "           \n",
    "cv2.waitKey(0)\n",
    "cv2.destroyAllWindows()"
   ]
  },
  {
   "cell_type": "markdown",
   "id": "0f09e9ad-60e6-4c77-8970-cb188bb49a11",
   "metadata": {},
   "source": [
    "Versuchen Sie nun ein kleines Video zu erstellen, welches das OpenCV-Logo langsam ein- und wieder ausblendet. Nutzen Sie hierfür die addWeighted()-Methode."
   ]
  },
  {
   "cell_type": "code",
   "execution_count": 7,
   "id": "e5442238-c321-4815-965b-ee3029bed2b0",
   "metadata": {},
   "outputs": [],
   "source": [
    "fourcc = cv2.VideoWriter_fourcc(*'XVID')\n",
    "out = cv2.VideoWriter('transition.avi', fourcc, 4, (512,512)) # filename, codec, framrate, width/height\n",
    "steps = [.1,.2,.3,.4,.5,.6,.7,.8,.9,1]\n",
    "\n",
    "for i in steps:\n",
    "    added_img = cv2.addWeighted(blank,1-i,logo,0+i,0)\n",
    "    out.write(added_img)\n",
    "for i in steps:\n",
    "    added_img = cv2.addWeighted(blank,0+i,logo,1-i,0)\n",
    "    out.write(added_img)\n",
    "\n",
    "out.release()"
   ]
  }
 ],
 "metadata": {
  "kernelspec": {
   "display_name": "Python 3 (ipykernel)",
   "language": "python",
   "name": "python3"
  },
  "language_info": {
   "codemirror_mode": {
    "name": "ipython",
    "version": 3
   },
   "file_extension": ".py",
   "mimetype": "text/x-python",
   "name": "python",
   "nbconvert_exporter": "python",
   "pygments_lexer": "ipython3",
   "version": "3.10.13"
  }
 },
 "nbformat": 4,
 "nbformat_minor": 5
}
