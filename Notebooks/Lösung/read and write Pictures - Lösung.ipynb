{
 "cells": [
  {
   "cell_type": "code",
   "execution_count": 1,
   "id": "2525f92b-a827-4f6f-9744-a42756cefd94",
   "metadata": {},
   "outputs": [],
   "source": [
    "import cv2\n",
    "import matplotlib.pyplot as plt\n",
    "import numpy as np"
   ]
  },
  {
   "cell_type": "markdown",
   "id": "3d7f97ba-a9c7-4e0f-80d0-60cf21370703",
   "metadata": {},
   "source": [
    "##### Lesen / Anzeigen"
   ]
  },
  {
   "cell_type": "markdown",
   "id": "a0319e21-d807-481e-a2f7-5883eb8f8ab1",
   "metadata": {},
   "source": [
    "Lesen Sie ein beliebiges Bild mit der cv2.imread()-Methode ein. Stellen Sie sicher, dass es als Farbbild eingelesen wird"
   ]
  },
  {
   "cell_type": "code",
   "execution_count": 2,
   "id": "6e4a9780-64b0-4ea6-b2e1-ea852eee1e0f",
   "metadata": {},
   "outputs": [],
   "source": [
    "img = cv2.imread(\"../../Pictures/dogs_vs_cats/PetImages/Dog/4.jpg\",3) #Pfad kann variieren"
   ]
  },
  {
   "cell_type": "markdown",
   "id": "735f4be8-6696-4e91-a006-1a19dab18991",
   "metadata": {},
   "source": [
    "Lassen Sie sich das Bild in einem Fenster ausgeben. Achten Sie darauf, alle Ressourcen nach dem Schließen des Fensters wieder freizugeben"
   ]
  },
  {
   "cell_type": "code",
   "execution_count": 3,
   "id": "9c18cc1b-dccb-4207-8237-060bd7f4b3e2",
   "metadata": {},
   "outputs": [],
   "source": [
    "cv2.imshow('image',img)\n",
    "\n",
    "cv2.waitKey(0)\n",
    "cv2.destroyAllWindows()"
   ]
  },
  {
   "cell_type": "markdown",
   "id": "68d03b3c-55ab-4bd9-91d6-6deca9fd34a2",
   "metadata": {},
   "source": [
    "Geben Sie Datentyp, shape und Auflösung mit der print()-Methode aus"
   ]
  },
  {
   "cell_type": "code",
   "execution_count": 5,
   "id": "a7ed5205-8467-4abe-8d37-152738cec430",
   "metadata": {},
   "outputs": [
    {
     "name": "stdout",
     "output_type": "stream",
     "text": [
      "Datentyp:uint8, Shape:(288, 300, 3), Auflösung:259200\n"
     ]
    }
   ],
   "source": [
    "print(f\"Datentyp:{img.dtype}, Shape:{img.shape}, Auflösung:{img.size}\")"
   ]
  },
  {
   "cell_type": "markdown",
   "id": "01167d57-f4bc-411d-bd4c-74b27c2a2041",
   "metadata": {},
   "source": [
    "##### Bearbeiten / Speichern"
   ]
  },
  {
   "cell_type": "markdown",
   "id": "e62941de-f05d-4a02-97ac-d98df071c22f",
   "metadata": {},
   "source": [
    "Erstellen Sie nun einen schwarzen Hintergrund mit der Auflösung 512x512x3 und dem passenden Datentyp"
   ]
  },
  {
   "cell_type": "code",
   "execution_count": 6,
   "id": "7a2e6618-d8d9-456c-8491-7604d36a14d0",
   "metadata": {},
   "outputs": [],
   "source": [
    "img = np.zeros([512,512,3],np.uint8)"
   ]
  },
  {
   "cell_type": "markdown",
   "id": "eebcb041-0b28-4bcb-9255-51f259f5a009",
   "metadata": {},
   "source": [
    "Lassen Sie sich den Hintergrund mit der imshow()-Methode ausgeben"
   ]
  },
  {
   "cell_type": "code",
   "execution_count": 7,
   "id": "5a801703-cf58-48c8-a38e-bd7b0e8fcc46",
   "metadata": {},
   "outputs": [],
   "source": [
    "cv2.imshow('image',img)\n",
    "\n",
    "cv2.waitKey(0)\n",
    "cv2.destroyAllWindows()"
   ]
  },
  {
   "cell_type": "markdown",
   "id": "be89fbd5-afa2-44af-965f-8b54e3bb3d2b",
   "metadata": {},
   "source": [
    "Versuchen Sie aus dem schwarzen Hintergrund eine Flagge (z.B.: Deutsch oder Belgisch) zu machen und diese als Datei auf Ihrem System zu speichern"
   ]
  },
  {
   "cell_type": "code",
   "execution_count": 8,
   "id": "cd532d3b-e194-4813-93f3-b068ea0331a5",
   "metadata": {},
   "outputs": [
    {
     "data": {
      "image/png": "[encoded data removed]",
      "text/plain": [
       "<Figure size 640x480 with 1 Axes>"
      ]
     },
     "metadata": {},
     "output_type": "display_data"
    }
   ],
   "source": [
    "plt.imshow(img)\n",
    "plt.show()"
   ]
  },
  {
   "cell_type": "code",
   "execution_count": 9,
   "id": "d0ce7eed-eea6-4259-be2c-92030a41623c",
   "metadata": {},
   "outputs": [
    {
     "data": {
      "text/plain": [
       "170"
      ]
     },
     "execution_count": 9,
     "metadata": {},
     "output_type": "execute_result"
    }
   ],
   "source": [
    "img.shape[0]//3"
   ]
  },
  {
   "cell_type": "code",
   "execution_count": 12,
   "id": "a764bf20-1a0f-4089-9b2c-7ee110f356d5",
   "metadata": {},
   "outputs": [],
   "source": [
    "##rot\n",
    "img[170:170+170,0:img.shape[1]] = [0,0,255]\n",
    "\n",
    "##Gelb\n",
    "img[340:img.shape[0],0:img.shape[1]] = [0,255,255]"
   ]
  },
  {
   "cell_type": "code",
   "execution_count": 14,
   "id": "339d46fd-6582-4392-ae06-e7e38598960e",
   "metadata": {},
   "outputs": [],
   "source": [
    "cv2.imshow('image',img)\n",
    "cv2.imwrite('flagge_deutsch.png',img)\n",
    "cv2.waitKey(0)\n",
    "cv2.destroyAllWindows()"
   ]
  }
 ],
 "metadata": {
  "kernelspec": {
   "display_name": "Python 3 (ipykernel)",
   "language": "python",
   "name": "python3"
  },
  "language_info": {
   "codemirror_mode": {
    "name": "ipython",
    "version": 3
   },
   "file_extension": ".py",
   "mimetype": "text/x-python",
   "name": "python",
   "nbconvert_exporter": "python",
   "pygments_lexer": "ipython3",
   "version": "3.10.13"
  }
 },
 "nbformat": 4,
 "nbformat_minor": 5
}
