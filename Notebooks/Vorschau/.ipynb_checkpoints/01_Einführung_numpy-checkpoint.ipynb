{
 "cells": [
  {
   "cell_type": "markdown",
   "id": "e36170a5",
   "metadata": {},
   "source": [
    "## Einführung numpy\n",
    "Dieses Notebook gibt eine kleine Einführung in das numpy package"
   ]
  },
  {
   "cell_type": "markdown",
   "id": "2d91a9d0",
   "metadata": {},
   "source": [
    "## Imports"
   ]
  },
  {
   "cell_type": "code",
   "execution_count": 21,
   "id": "4a27d28f",
   "metadata": {},
   "outputs": [],
   "source": [
    "import numpy as np\n",
    "import matplotlib.pyplot as plt"
   ]
  },
  {
   "cell_type": "markdown",
   "id": "bf0824e2",
   "metadata": {},
   "source": [
    "### numpy"
   ]
  },
  {
   "cell_type": "markdown",
   "id": "1ec7176d-0603-4921-98ad-6da095bb4754",
   "metadata": {},
   "source": [
    "##### Array erstellen"
   ]
  },
  {
   "cell_type": "code",
   "execution_count": 2,
   "id": "a3f5a58a-1681-432f-b3e6-70775ed4b3aa",
   "metadata": {},
   "outputs": [],
   "source": [
    "# Create 2 new lists height and weight\n",
    "height = [1.87,  1.87, 1.82, 1.91, 1.90, 1.85]\n",
    "weight = [81.65, 97.52, 95.25, 92.98, 86.18, 88.45]"
   ]
  },
  {
   "cell_type": "code",
   "execution_count": 3,
   "id": "52bd3d2f-e0bd-467d-8a6d-c36d83de15cf",
   "metadata": {},
   "outputs": [],
   "source": [
    "# Create 2 numpy arrays from height and weight\n",
    "np_height = np.array(height)\n",
    "np_weight = np.array(weight)"
   ]
  },
  {
   "cell_type": "code",
   "execution_count": null,
   "id": "ee9e952d-51a6-418a-9926-7cd539774270",
   "metadata": {},
   "outputs": [],
   "source": [
    "#oder\n",
    "#np_height = np.array([1.87,  1.87, 1.82, 1.91, 1.90, 1.85], dtype=\"float\")"
   ]
  },
  {
   "cell_type": "markdown",
   "id": "e902fb70-260e-4c43-89cf-a057a16bff80",
   "metadata": {},
   "source": [
    "##### Element-Wise Calculation"
   ]
  },
  {
   "cell_type": "code",
   "execution_count": 4,
   "id": "c10d5838-de9b-47df-8151-75b5ae22618b",
   "metadata": {},
   "outputs": [
    {
     "name": "stdout",
     "output_type": "stream",
     "text": [
      "[23.34925219 27.88755755 28.75558507 25.48723993 23.87257618 25.84368152]\n"
     ]
    }
   ],
   "source": [
    "bmi = np_weight / np_height ** 2 #ohne for-Schleife --> schneller als plain code\n",
    "print(bmi)"
   ]
  },
  {
   "cell_type": "markdown",
   "id": "9d781f90-50e3-40fa-ba97-0000c8c09e7d",
   "metadata": {},
   "source": [
    "##### Subsetting"
   ]
  },
  {
   "cell_type": "code",
   "execution_count": 7,
   "id": "bf2aa502-d768-4652-9d05-d032732d7a60",
   "metadata": {},
   "outputs": [
    {
     "data": {
      "text/plain": [
       "array([ True, False, False,  True,  True,  True])"
      ]
     },
     "execution_count": 7,
     "metadata": {},
     "output_type": "execute_result"
    }
   ],
   "source": [
    "bmi < 27"
   ]
  },
  {
   "cell_type": "code",
   "execution_count": 9,
   "id": "949ec15a-9d93-41dc-a123-cf318e33f46a",
   "metadata": {},
   "outputs": [
    {
     "data": {
      "text/plain": [
       "array([23.34925219, 25.48723993, 23.87257618, 25.84368152])"
      ]
     },
     "execution_count": 9,
     "metadata": {},
     "output_type": "execute_result"
    }
   ],
   "source": [
    "bmi[bmi<27]"
   ]
  },
  {
   "cell_type": "markdown",
   "id": "de8744c1-2fb9-481f-a147-727c35ed96cf",
   "metadata": {},
   "source": [
    "##### multi dimensional arrays"
   ]
  },
  {
   "cell_type": "code",
   "execution_count": 10,
   "id": "5e79029c",
   "metadata": {},
   "outputs": [],
   "source": [
    "a = np.array([[2,4,5],[5,6,7]],dtype=\"int\") #mit dtype Zuweisung"
   ]
  },
  {
   "cell_type": "code",
   "execution_count": 11,
   "id": "46884953-de9b-4e51-b3eb-bbcbd644ced1",
   "metadata": {},
   "outputs": [
    {
     "data": {
      "text/plain": [
       "(2, 3)"
      ]
     },
     "execution_count": 11,
     "metadata": {},
     "output_type": "execute_result"
    }
   ],
   "source": [
    "a.shape #rows,columns"
   ]
  },
  {
   "cell_type": "code",
   "execution_count": 40,
   "id": "d08d6a4f",
   "metadata": {},
   "outputs": [
    {
     "data": {
      "text/plain": [
       "array([4, 6])"
      ]
     },
     "execution_count": 40,
     "metadata": {},
     "output_type": "execute_result"
    }
   ],
   "source": [
    "a[:,1] #Alle Zeilen, zweite Spalte"
   ]
  },
  {
   "cell_type": "code",
   "execution_count": 41,
   "id": "1a1c8e7c",
   "metadata": {},
   "outputs": [
    {
     "data": {
      "text/plain": [
       "numpy.ndarray"
      ]
     },
     "execution_count": 41,
     "metadata": {},
     "output_type": "execute_result"
    }
   ],
   "source": [
    "type(a)"
   ]
  },
  {
   "cell_type": "markdown",
   "id": "e905a608-3d9e-4e54-b572-b4e47d7360c2",
   "metadata": {},
   "source": [
    "##### Indexing"
   ]
  },
  {
   "cell_type": "code",
   "execution_count": 12,
   "id": "750310a6-d878-4dec-b925-bc66bc4148c0",
   "metadata": {},
   "outputs": [],
   "source": [
    "a[:] = 1 ##Alle Werte sollen 1 sein\n",
    "a"
   ]
  },
  {
   "cell_type": "code",
   "execution_count": 14,
   "id": "c8704737-7aa6-4785-b068-01cf903152e9",
   "metadata": {},
   "outputs": [],
   "source": [
    "a[0,0:2] = 2 ## Erste Zeile, 1.+2. Spalte sollen 2 sein\n",
    "a"
   ]
  },
  {
   "cell_type": "code",
   "execution_count": 15,
   "id": "dae55e94-8468-45c7-b976-bb9a557412c6",
   "metadata": {},
   "outputs": [
    {
     "data": {
      "text/plain": [
       "array([[2, 2, 1],\n",
       "       [1, 1, 1]])"
      ]
     },
     "execution_count": 15,
     "metadata": {},
     "output_type": "execute_result"
    }
   ],
   "source": [
    "a"
   ]
  },
  {
   "cell_type": "markdown",
   "id": "4c17ed16-7dcc-4388-bedf-ea4ca42d96ad",
   "metadata": {},
   "source": [
    "##### Erstellen von leeren Arrays für Bilder"
   ]
  },
  {
   "cell_type": "code",
   "execution_count": 16,
   "id": "257a42c7-06e1-48cd-a60b-393062be3448",
   "metadata": {},
   "outputs": [
    {
     "data": {
      "text/plain": [
       "type"
      ]
     },
     "execution_count": 16,
     "metadata": {},
     "output_type": "execute_result"
    }
   ],
   "source": [
    "type(np.uint8) ##--> Datentyp für Bilder"
   ]
  },
  {
   "cell_type": "code",
   "execution_count": 19,
   "id": "42bcd739-81a5-4bb3-bf25-a290a11775c4",
   "metadata": {},
   "outputs": [
    {
     "data": {
      "text/plain": [
       "array([[[0, 0, 0],\n",
       "        [0, 0, 0],\n",
       "        [0, 0, 0],\n",
       "        ...,\n",
       "        [0, 0, 0],\n",
       "        [0, 0, 0],\n",
       "        [0, 0, 0]],\n",
       "\n",
       "       [[0, 0, 0],\n",
       "        [0, 0, 0],\n",
       "        [0, 0, 0],\n",
       "        ...,\n",
       "        [0, 0, 0],\n",
       "        [0, 0, 0],\n",
       "        [0, 0, 0]],\n",
       "\n",
       "       [[0, 0, 0],\n",
       "        [0, 0, 0],\n",
       "        [0, 0, 0],\n",
       "        ...,\n",
       "        [0, 0, 0],\n",
       "        [0, 0, 0],\n",
       "        [0, 0, 0]],\n",
       "\n",
       "       ...,\n",
       "\n",
       "       [[0, 0, 0],\n",
       "        [0, 0, 0],\n",
       "        [0, 0, 0],\n",
       "        ...,\n",
       "        [0, 0, 0],\n",
       "        [0, 0, 0],\n",
       "        [0, 0, 0]],\n",
       "\n",
       "       [[0, 0, 0],\n",
       "        [0, 0, 0],\n",
       "        [0, 0, 0],\n",
       "        ...,\n",
       "        [0, 0, 0],\n",
       "        [0, 0, 0],\n",
       "        [0, 0, 0]],\n",
       "\n",
       "       [[0, 0, 0],\n",
       "        [0, 0, 0],\n",
       "        [0, 0, 0],\n",
       "        ...,\n",
       "        [0, 0, 0],\n",
       "        [0, 0, 0],\n",
       "        [0, 0, 0]]], dtype=uint8)"
      ]
     },
     "execution_count": 19,
     "metadata": {},
     "output_type": "execute_result"
    }
   ],
   "source": [
    "## zeros(shape,Datentyp)\n",
    "img = np.zeros([128,128,3],np.uint8)\n",
    "img"
   ]
  },
  {
   "cell_type": "code",
   "execution_count": 22,
   "id": "335ec643-9fd8-439b-bb35-fa88b550a31f",
   "metadata": {},
   "outputs": [
    {
     "data": {
      "image/png": "[encoded data removed]",
      "text/plain": [
       "<Figure size 640x480 with 1 Axes>"
      ]
     },
     "metadata": {},
     "output_type": "display_data"
    }
   ],
   "source": [
    "## schwarzes Bild\n",
    "plt.imshow(img)\n",
    "plt.show()"
   ]
  },
  {
   "cell_type": "code",
   "execution_count": 25,
   "id": "2b10388b-ffa0-4ec0-bd61-e45fc89ebba7",
   "metadata": {},
   "outputs": [],
   "source": [
    "## Rechteck\n",
    "img[40:60,40:60] = [255,0,0] #RGB --> Achtung! In OpenCV ist es BGR"
   ]
  },
  {
   "cell_type": "code",
   "execution_count": 26,
   "id": "4403b750-5ab5-41b1-986d-88ac26ccdc14",
   "metadata": {},
   "outputs": [
    {
     "data": {
      "image/png": "[encoded data removed]",
      "text/plain": [
       "<Figure size 640x480 with 1 Axes>"
      ]
     },
     "metadata": {},
     "output_type": "display_data"
    }
   ],
   "source": [
    "## schwarzes Bild mit rotem Rechteck\n",
    "plt.imshow(img)\n",
    "plt.show()"
   ]
  },
  {
   "cell_type": "code",
   "execution_count": 29,
   "id": "ef913a3c-c97f-4c90-8eb0-a671cf92d60c",
   "metadata": {},
   "outputs": [],
   "source": [
    "## Linie\n",
    "img[80:85,20:100] = [0,0,255]"
   ]
  },
  {
   "cell_type": "code",
   "execution_count": 30,
   "id": "e409bb77-f6fc-47b9-94fe-f217155c208c",
   "metadata": {},
   "outputs": [
    {
     "data": {
      "image/png": "[encoded data removed]",
      "text/plain": [
       "<Figure size 640x480 with 1 Axes>"
      ]
     },
     "metadata": {},
     "output_type": "display_data"
    }
   ],
   "source": [
    "## schwarzes Bild mit rotem Rechteck und blauer Linie\n",
    "plt.imshow(img)\n",
    "plt.show()"
   ]
  }
 ],
 "metadata": {
  "kernelspec": {
   "display_name": "Python 3 (ipykernel)",
   "language": "python",
   "name": "python3"
  },
  "language_info": {
   "codemirror_mode": {
    "name": "ipython",
    "version": 3
   },
   "file_extension": ".py",
   "mimetype": "text/x-python",
   "name": "python",
   "nbconvert_exporter": "python",
   "pygments_lexer": "ipython3",
   "version": "3.10.13"
  }
 },
 "nbformat": 4,
 "nbformat_minor": 5
}
