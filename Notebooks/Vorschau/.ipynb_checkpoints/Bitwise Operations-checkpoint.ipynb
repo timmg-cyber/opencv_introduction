{
 "cells": [
  {
   "cell_type": "code",
   "execution_count": 2,
   "id": "0296a343-5af3-405d-8d45-dccb0b21a10f",
   "metadata": {},
   "outputs": [],
   "source": [
    "import cv2\n",
    "import numpy as np"
   ]
  },
  {
   "cell_type": "code",
   "execution_count": 7,
   "id": "e92db7cc-e9aa-4ad5-8fe3-f6ccdb3ffe41",
   "metadata": {},
   "outputs": [],
   "source": [
    "img = np.zeros((512,512,3), np.uint8)\n",
    "img2 = img.copy()\n",
    "img = cv2.rectangle(img, (200,0), (300,100), (255,255,255),-1)\n",
    "img2 = cv2.rectangle(img2, (img2.shape[1]//2,0), (img2.shape[1],img2.shape[0]), (255,255,255), -1)\n",
    "\n",
    "#bitwise_op = cv2.bitwise_and(img,img2)\n",
    "#bitwise_op = cv2.bitwise_or(img,img2)\n",
    "#bitwise_op = cv2.bitwise_xor(img,img2)\n",
    "#bitwise_op = cv2.bitwise_not(img)\n",
    "#bitwise_op = cv2.bitwise_not(img2)\n",
    "\n",
    "\n",
    "\n",
    "#cv2.imshow('image',img)\n",
    "cv2.imshow('image2',img2)\n",
    "#cv2.imshow('result',bitwise_op)\n",
    "\n",
    "cv2.waitKey(0)\n",
    "cv2.destroyAllWindows()"
   ]
  }
 ],
 "metadata": {
  "kernelspec": {
   "display_name": "Python 3 (ipykernel)",
   "language": "python",
   "name": "python3"
  },
  "language_info": {
   "codemirror_mode": {
    "name": "ipython",
    "version": 3
   },
   "file_extension": ".py",
   "mimetype": "text/x-python",
   "name": "python",
   "nbconvert_exporter": "python",
   "pygments_lexer": "ipython3",
   "version": "3.10.13"
  }
 },
 "nbformat": 4,
 "nbformat_minor": 5
}
