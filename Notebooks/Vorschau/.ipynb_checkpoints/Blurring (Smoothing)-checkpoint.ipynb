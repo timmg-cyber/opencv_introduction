{
 "cells": [
  {
   "cell_type": "code",
   "execution_count": 1,
   "id": "92924220-abc6-4cc6-9c03-02bf992da378",
   "metadata": {},
   "outputs": [],
   "source": [
    "import cv2\n",
    "import numpy as np"
   ]
  },
  {
   "cell_type": "code",
   "execution_count": 2,
   "id": "c4f40e39-71c8-4984-ade0-c5a7acd33c4a",
   "metadata": {},
   "outputs": [],
   "source": [
    "path = \"../../Pictures/dogs_vs_cats/PetImages/Dog/4.jpg\""
   ]
  },
  {
   "cell_type": "markdown",
   "id": "23b95a9b-cbfb-44f9-a25a-d5fc48c1de0b",
   "metadata": {},
   "source": [
    "## Average Blur"
   ]
  },
  {
   "cell_type": "code",
   "execution_count": null,
   "id": "3bb85d1c-70f9-4712-b162-8d14424faafd",
   "metadata": {},
   "outputs": [],
   "source": [
    "img = cv2.imread(path)\n",
    "cv2.imshow('image', img)\n",
    "\n",
    "average_3_3 = cv2.blur(img,(3,3))\n",
    "cv2.imshow('blurred_3',average_3_3)\n",
    "\n",
    "average_7_7 = cv2.blur(img,(7,7))\n",
    "cv2.imshow('blurred_7',average_7_7)\n",
    "\n",
    "cv2.waitKey(0)\n",
    "cv2.destroyAllWindows()"
   ]
  },
  {
   "cell_type": "markdown",
   "id": "ddfdad84-6bc6-4af9-a499-c3d343e1d2bd",
   "metadata": {},
   "source": [
    "## Gaussian Blur"
   ]
  },
  {
   "cell_type": "code",
   "execution_count": 4,
   "id": "463428e7-5d2f-4fb9-9e27-67775a2196bf",
   "metadata": {},
   "outputs": [],
   "source": [
    "img = cv2.imread(path)\n",
    "cv2.imshow('image', img)\n",
    "\n",
    "average_3_3 = cv2.GaussianBlur(img,(3,3),0)\n",
    "cv2.imshow('blurred_3',average_3_3)\n",
    "\n",
    "average_7_7 = cv2.GaussianBlur(img,(7,7),0)\n",
    "cv2.imshow('blurred_7',average_7_7)\n",
    "\n",
    "cv2.waitKey(0)\n",
    "cv2.destroyAllWindows()"
   ]
  },
  {
   "cell_type": "markdown",
   "id": "dc490ae7-8881-49ad-a3af-4550f46e5ddb",
   "metadata": {},
   "source": [
    "## Median Blur"
   ]
  },
  {
   "cell_type": "code",
   "execution_count": 3,
   "id": "97c919a8-ce11-4a42-b0df-dbb0a39ff953",
   "metadata": {},
   "outputs": [],
   "source": [
    "img = cv2.imread(path)\n",
    "cv2.imshow('image', img)\n",
    "\n",
    "average_3_3 = cv2.medianBlur(img,3)\n",
    "cv2.imshow('blurred_3',average_3_3)\n",
    "\n",
    "average_7_7 = cv2.medianBlur(img,7)\n",
    "cv2.imshow('blurred_7',average_7_7)\n",
    "\n",
    "cv2.waitKey(0)\n",
    "cv2.destroyAllWindows()"
   ]
  },
  {
   "cell_type": "markdown",
   "id": "9bf553f0-7c6b-44a2-8fce-6b4bbe72490a",
   "metadata": {},
   "source": [
    "## Comparison"
   ]
  },
  {
   "cell_type": "code",
   "execution_count": 6,
   "id": "e9060ad1-5bc5-4311-9bdd-f749b15dc30a",
   "metadata": {},
   "outputs": [],
   "source": [
    "filter_size = 7\n",
    "\n",
    "img = cv2.imread(path)\n",
    "cv2.imshow('image', img)\n",
    "\n",
    "gaussian_3_3 = cv2.GaussianBlur(img,(filter_size,filter_size),0) ## recht passend in den meisten Fällen\n",
    "cv2.imshow('Gaussian_'+str(filter_size),gaussian_3_3)\n",
    "\n",
    "median_3_3 = cv2.medianBlur(img,filter_size) ##Sollte eher mit kleiner filter_size genutzt werden\n",
    "cv2.imshow('median_'+str(filter_size),median_3_3)\n",
    "\n",
    "average_3_3 = cv2.blur(img,(filter_size,filter_size))\n",
    "cv2.imshow('average_'+str(filter_size),average_3_3)\n",
    "\n",
    "cv2.waitKey(0)\n",
    "cv2.destroyAllWindows()"
   ]
  }
 ],
 "metadata": {
  "kernelspec": {
   "display_name": "Python 3 (ipykernel)",
   "language": "python",
   "name": "python3"
  },
  "language_info": {
   "codemirror_mode": {
    "name": "ipython",
    "version": 3
   },
   "file_extension": ".py",
   "mimetype": "text/x-python",
   "name": "python",
   "nbconvert_exporter": "python",
   "pygments_lexer": "ipython3",
   "version": "3.10.13"
  }
 },
 "nbformat": 4,
 "nbformat_minor": 5
}
