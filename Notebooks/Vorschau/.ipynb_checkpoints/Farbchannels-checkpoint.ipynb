{
 "cells": [
  {
   "cell_type": "code",
   "execution_count": 2,
   "id": "940dc027-642a-4d67-a519-b252661b17bc",
   "metadata": {},
   "outputs": [],
   "source": [
    "import cv2\n",
    "import numpy as np"
   ]
  },
  {
   "cell_type": "code",
   "execution_count": 3,
   "id": "1f2d6535-a5d3-4175-9b8f-208f1d9623d9",
   "metadata": {},
   "outputs": [],
   "source": [
    "path = \"../../Pictures/dogs_vs_cats/PetImages/Dog/4.jpg\""
   ]
  },
  {
   "cell_type": "markdown",
   "id": "534287ce-4216-426f-a768-7e72a8b5b398",
   "metadata": {},
   "source": [
    "## Grayscale"
   ]
  },
  {
   "cell_type": "code",
   "execution_count": 4,
   "id": "eed5aaf0-0c63-4b21-8805-2af8537cf0eb",
   "metadata": {},
   "outputs": [],
   "source": [
    "img = cv2.imread(path)\n",
    "cv2.imshow('image', img)\n",
    "\n",
    "gray = cv2.cvtColor(img,cv2.COLOR_BGR2GRAY)\n",
    "cv2.imshow('image_gray', gray) #Distribution of Pixel Intensity\n",
    "cv2.waitKey(0)\n",
    "cv2.destroyAllWindows()"
   ]
  },
  {
   "cell_type": "markdown",
   "id": "672d6812-fe12-4a7c-9ce8-0c978c318207",
   "metadata": {},
   "source": [
    "## HSV (Hue, Saturation, Value) / HSV (Hue, Saturation, Brightness)"
   ]
  },
  {
   "cell_type": "code",
   "execution_count": 5,
   "id": "67aa0b84-3600-48ba-b067-9aa621ee5a48",
   "metadata": {},
   "outputs": [],
   "source": [
    "#Funktioniert genauso für LAB (Achtung! man kann nicht von grayscale direkt zu HSV/LAB)\n",
    "img = cv2.imread(path)\n",
    "cv2.imshow('image', img)\n",
    "\n",
    "hsv = cv2.cvtColor(img,cv2.COLOR_BGR2HSV)\n",
    "cv2.imshow('hsv', hsv) #Distribution of Pixel Intensity\n",
    "cv2.waitKey(0)\n",
    "cv2.destroyAllWindows()"
   ]
  },
  {
   "cell_type": "markdown",
   "id": "cb1cb4be-20ad-42fc-9a38-8a69217c541c",
   "metadata": {},
   "source": [
    "## Separating color channels"
   ]
  },
  {
   "cell_type": "code",
   "execution_count": 6,
   "id": "f84f2a19-accb-45ce-b90a-b0f3b22aa427",
   "metadata": {},
   "outputs": [],
   "source": [
    "img = cv2.imread(path)\n",
    "cv2.imshow('image', img)\n",
    "\n",
    "b,g,r = cv2.split(img)\n",
    "\n",
    "print(b.shape) ##Shape ist ähnlich wie grayscale Image, da nur 1-Farbchannel\n",
    "\n",
    "## Grayscale representations -> umso höher der jeweilige Farbwert, umso heller der Pixel im Bild\n",
    "cv2.imshow('blue', b)\n",
    "cv2.imshow('green', g)\n",
    "cv2.imshow('red', r)\n",
    "\n",
    "cv2.waitKey(0)\n",
    "cv2.destroyAllWindows()"
   ]
  },
  {
   "cell_type": "markdown",
   "id": "98352f7c-8036-4663-89b7-a4146dc5f0e7",
   "metadata": {},
   "source": [
    "## Looking at every Color-Channel individually"
   ]
  },
  {
   "cell_type": "code",
   "execution_count": null,
   "id": "844d5c30-191f-4cb9-9f5e-e3741284092b",
   "metadata": {},
   "outputs": [
    {
     "name": "stdout",
     "output_type": "stream",
     "text": [
      "(288, 300)\n"
     ]
    }
   ],
   "source": [
    "img = cv2.imread(path)\n",
    "cv2.imshow('image', img)\n",
    "\n",
    "blank = np.zeros(img.shape[:2], np.uint8)\n",
    "\n",
    "b,g,r = cv2.split(img)\n",
    "\n",
    "## Alle Farbchannels außer die gewünschten, werden auf 0 gesetzt (schwarz)\n",
    "blue = cv2.merge([b,blank,blank])\n",
    "green = cv2.merge([blank,g,blank])\n",
    "red = cv2.merge([blank,blank,r])\n",
    "\n",
    "print(b.shape) ##Shape ist ähnlich wie grayscale Image, da nur 1-Farbchannel\n",
    "\n",
    "## Grayscale representations -> umso höher der jeweilige Farbwert, umso heller der Pixel im Bild\n",
    "cv2.imshow('blue', blue)\n",
    "cv2.imshow('green', green)\n",
    "cv2.imshow('red', red)\n",
    "\n",
    "cv2.waitKey(0)\n",
    "cv2.destroyAllWindows()"
   ]
  }
 ],
 "metadata": {
  "kernelspec": {
   "display_name": "Python 3 (ipykernel)",
   "language": "python",
   "name": "python3"
  },
  "language_info": {
   "codemirror_mode": {
    "name": "ipython",
    "version": 3
   },
   "file_extension": ".py",
   "mimetype": "text/x-python",
   "name": "python",
   "nbconvert_exporter": "python",
   "pygments_lexer": "ipython3",
   "version": "3.10.13"
  }
 },
 "nbformat": 4,
 "nbformat_minor": 5
}
