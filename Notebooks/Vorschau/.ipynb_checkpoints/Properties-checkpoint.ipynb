{
 "cells": [
  {
   "cell_type": "code",
   "execution_count": 1,
   "id": "5e95bd6f-a652-4e05-b2c5-4eb84089de32",
   "metadata": {},
   "outputs": [],
   "source": [
    "import cv2"
   ]
  },
  {
   "cell_type": "code",
   "execution_count": 13,
   "id": "7963007f-fb3b-4e69-97d7-ca7894554d08",
   "metadata": {},
   "outputs": [],
   "source": [
    "cap = cv2.VideoCapture(0)"
   ]
  },
  {
   "cell_type": "code",
   "execution_count": null,
   "id": "dfa0f838-5735-4f0e-81fa-73aead35bc36",
   "metadata": {},
   "outputs": [],
   "source": [
    "#Properties Documentation \n",
    "#https://docs.opencv.org/4.9.0/d4/d15/group__videoio__flags__base.html#ggaeb8dd9c89c10a5c63c139bf7c4f5704daf01bc92359d2abc9e6eeb5cbe36d9af2"
   ]
  },
  {
   "cell_type": "code",
   "execution_count": 14,
   "id": "9a78ef5d-badd-43cc-85b1-8a6ed299745b",
   "metadata": {},
   "outputs": [
    {
     "name": "stdout",
     "output_type": "stream",
     "text": [
      "640.0\n",
      "480.0\n"
     ]
    }
   ],
   "source": [
    "print(cap.get(cv2.CAP_PROP_FRAME_WIDTH))\n",
    "print(cap.get(cv2.CAP_PROP_FRAME_HEIGHT))"
   ]
  },
  {
   "cell_type": "code",
   "execution_count": 15,
   "id": "aafe4a67-24e1-4cf4-b3e7-f24107921b8f",
   "metadata": {},
   "outputs": [
    {
     "data": {
      "text/plain": [
       "True"
      ]
     },
     "execution_count": 15,
     "metadata": {},
     "output_type": "execute_result"
    }
   ],
   "source": [
    "#HD-Auflösung --> bei unproportionaler Auflösung wird die Kamera immer die bestmögliche Auflösung auswählen\n",
    "#cap.set(cv2.CAP_PROP_FRAME_WIDTH,)\n",
    "cap.set(3,1280) #Bei 3000x3000 wird die maximal mögliche Resolution ausgewählt\n",
    "cap.set(4, 720)"
   ]
  },
  {
   "cell_type": "code",
   "execution_count": 16,
   "id": "a09da73a-b436-4838-b8e4-535fc3f9af18",
   "metadata": {},
   "outputs": [
    {
     "name": "stdout",
     "output_type": "stream",
     "text": [
      "1280.0\n",
      "720.0\n"
     ]
    }
   ],
   "source": [
    "print(cap.get(3))\n",
    "print(cap.get(4))"
   ]
  },
  {
   "cell_type": "code",
   "execution_count": 17,
   "id": "8fb6704d-00f4-406b-89fc-67144666e89c",
   "metadata": {},
   "outputs": [],
   "source": [
    "while(cap.isOpened()):\n",
    "    ret, frame = cap.read()\n",
    "    if ret == True:\n",
    "\n",
    "        gray= cv2.cvtColor(frame, cv2.COLOR_BGR2GRAY)\n",
    "        cv2.imshow('frame', gray)\n",
    "\n",
    "        if cv2.waitKey(1) & 0xFF == ord('q'):\n",
    "            break\n",
    "    else:\n",
    "        break\n",
    "\n",
    "cap.release()\n",
    "cv2.destroyAllWindows()"
   ]
  }
 ],
 "metadata": {
  "kernelspec": {
   "display_name": "Python 3 (ipykernel)",
   "language": "python",
   "name": "python3"
  },
  "language_info": {
   "codemirror_mode": {
    "name": "ipython",
    "version": 3
   },
   "file_extension": ".py",
   "mimetype": "text/x-python",
   "name": "python",
   "nbconvert_exporter": "python",
   "pygments_lexer": "ipython3",
   "version": "3.10.13"
  }
 },
 "nbformat": 4,
 "nbformat_minor": 5
}
