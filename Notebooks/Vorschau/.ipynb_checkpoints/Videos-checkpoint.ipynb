{
 "cells": [
  {
   "cell_type": "code",
   "execution_count": 1,
   "id": "9c737b7f-b1e0-4b9a-aa8b-6ead5a585dd2",
   "metadata": {},
   "outputs": [],
   "source": [
    "import cv2\n",
    "import matplotlib.pyplot as plt\n",
    "import numpy as np"
   ]
  },
  {
   "cell_type": "code",
   "execution_count": 2,
   "id": "24d04d5d-36d6-4587-b673-e907db3043ea",
   "metadata": {},
   "outputs": [
    {
     "data": {
      "text/plain": [
       "'4.9.0'"
      ]
     },
     "execution_count": 2,
     "metadata": {},
     "output_type": "execute_result"
    }
   ],
   "source": [
    "cv2.__version__"
   ]
  },
  {
   "cell_type": "code",
   "execution_count": 8,
   "id": "bf39c997-deb2-4afd-99bd-b8e7b604f037",
   "metadata": {},
   "outputs": [],
   "source": [
    "path = \"../../Pictures/dogs_vs_cats/PetImages/Dog/4.jpg\""
   ]
  },
  {
   "cell_type": "code",
   "execution_count": null,
   "id": "726bdfa0-e861-45da-9af6-8351c9824239",
   "metadata": {},
   "outputs": [],
   "source": [
    "cap = cv2.VideoCapture(0) # 0 or -1 for default camera (Wenn mehrere Kameras vorhanden, kann auch 1 oder 2 passen)\n",
    "\n",
    "while(True):\n",
    "    ret, frame = cap.read() # frame ist aktuelles Bild, ret = Boolean ob Bild vorhanden ist oder nicht\n",
    "    \n",
    "    cv2.imshow('frame', frame)\n",
    "\n",
    "    if cv2.waitKey(1) & 0xFF == ord('q'):\n",
    "        break\n",
    "cap.release()\n",
    "cv2.destroyAllWindows()"
   ]
  },
  {
   "cell_type": "markdown",
   "id": "ba7d2069-33f2-4c64-9ec9-258fdc56a2bc",
   "metadata": {},
   "source": [
    "## Frames verändern bevor sie angezeigt werden"
   ]
  },
  {
   "cell_type": "code",
   "execution_count": 14,
   "id": "4a4b8b9a-619e-4c20-9f68-664de4cfc11a",
   "metadata": {},
   "outputs": [],
   "source": [
    "cap = cv2.VideoCapture(0) # 0 or -1 for default camera (Wenn mehrere Kameras vorhanden, kann auch 1 oder 2 passen)\n",
    "\n",
    "while(True):\n",
    "    ret, frame = cap.read() # frame ist aktuelles Bild, ret = Boolean ob Bild vorhanden ist oder nicht\n",
    "\n",
    "    gray = cv2.cvtColor(frame, cv2.COLOR_BGR2GRAY) # Bilder in Grayscale umwandeln bevor sie angezeigt werden\n",
    "    \n",
    "    cv2.imshow('frame', gray)\n",
    "\n",
    "    if cv2.waitKey(1) & 0xFF == ord('q'):\n",
    "        break\n",
    "cap.release()\n",
    "cv2.destroyAllWindows()"
   ]
  },
  {
   "cell_type": "markdown",
   "id": "8411a08f-8523-4636-a179-2bb80724444a",
   "metadata": {},
   "source": [
    "## Video Properties"
   ]
  },
  {
   "cell_type": "code",
   "execution_count": 15,
   "id": "d1781501-73d7-460c-b971-b9c62375b4e0",
   "metadata": {},
   "outputs": [
    {
     "name": "stdout",
     "output_type": "stream",
     "text": [
      "False\n"
     ]
    }
   ],
   "source": [
    "# cap.isOpened() --> Richtiger Filename/Pfad/Quelle = True\n",
    "cap = cv2.VideoCapture(8) # 0 or -1 for default camera (Wenn mehrere Kameras vorhanden, kann auch 1 oder 2 passen)\n",
    "\n",
    "print(cap.isOpened()) #falls VideoCapture(8) --> False\n",
    "\n",
    "while(cap.isOpened()):\n",
    "    ret, frame = cap.read() # frame ist aktuelles Bild, ret = Boolean ob Bild vorhanden ist oder nicht\n",
    "\n",
    "    gray = cv2.cvtColor(frame, cv2.COLOR_BGR2GRAY) # Bilder in Grayscale umwandeln bevor sie angezeigt werden\n",
    "    \n",
    "    cv2.imshow('frame', gray)\n",
    "\n",
    "    if cv2.waitKey(1) & 0xFF == ord('q'):\n",
    "        break\n",
    "cap.release()\n",
    "cv2.destroyAllWindows()"
   ]
  },
  {
   "cell_type": "code",
   "execution_count": null,
   "id": "776c3318-54ed-4b00-a384-f0b471eb4834",
   "metadata": {},
   "outputs": [],
   "source": [
    "## cap.get() ALL props listed here: \n",
    "#https://docs.opencv.org/4.9.0/d4/d15/group__videoio__flags__base.html#ggaeb8dd9c89c10a5c63c139bf7c4f5704daf01bc92359d2abc9e6eeb5cbe36d9af2\n",
    "cap = cv2.VideoCapture(0) # 0 or -1 for default camera (Wenn mehrere Kameras vorhanden, kann auch 1 oder 2 passen)\n",
    "\n",
    "print(cap.isOpened()) #falls bspw.: VideoCapture(8) --> False\n",
    "\n",
    "while(cap.isOpened()):\n",
    "    ret, frame = cap.read() # frame ist aktuelles Bild, ret = Boolean ob Bild vorhanden ist oder nicht\n",
    "\n",
    "    print(f\"width{cap.get(cv2.CAP_PROP_FRAME_WIDTH)}\")\n",
    "    print(f\"height{cap.get(cv2.CAP_PROP_FRAME_HEIGHT)}\")\n",
    "    print(f\"framerate{cap.get(cv2.CAP_PROP_FPS)}\")\n",
    "\n",
    "    gray = cv2.cvtColor(frame, cv2.COLOR_BGR2GRAY) # Bilder in Grayscale umwandeln bevor sie angezeigt werden\n",
    "    \n",
    "    cv2.imshow('frame', gray)\n",
    "\n",
    "    if cv2.waitKey(1) & 0xFF == ord('q'):\n",
    "        break\n",
    "cap.release()\n",
    "cv2.destroyAllWindows()"
   ]
  },
  {
   "cell_type": "markdown",
   "id": "95dbaa05-a696-4934-9692-e8550e3849cb",
   "metadata": {},
   "source": [
    "## Videos erstellen/schreiben/speichern"
   ]
  },
  {
   "cell_type": "code",
   "execution_count": 18,
   "id": "9d514fa1-9169-4d24-9ce2-41767ec6d926",
   "metadata": {},
   "outputs": [],
   "source": [
    "cap = cv2.VideoCapture(0) # 0 or -1 for default camera (Wenn mehrere Kameras vorhanden, kann auch 1 oder 2 passen)\n",
    "\n",
    "fourcc = cv2.VideoWriter_fourcc(*'XVID')\n",
    "out = cv2.VideoWriter('output.avi', fourcc, 30, (640,480)) # filename, codec, framrate, width/height\n",
    "\n",
    "while(cap.isOpened()):\n",
    "    ret, frame = cap.read() # frame ist aktuelles Bild, ret = Boolean ob Bild vorhanden ist oder nicht\n",
    "\n",
    "    if ret == True:\n",
    "\n",
    "        out.write(frame)\n",
    "        \n",
    "        gray = cv2.cvtColor(frame, cv2.COLOR_BGR2GRAY) # Bilder in Grayscale umwandeln bevor sie angezeigt werden\n",
    "        cv2.imshow('frame', gray)\n",
    "        if cv2.waitKey(1) & 0xFF == ord('q'):\n",
    "            break\n",
    "    else:\n",
    "        break\n",
    "cap.release()\n",
    "out.release()\n",
    "cv2.destroyAllWindows()"
   ]
  },
  {
   "cell_type": "markdown",
   "id": "4aaecbe8-7681-48ae-b2df-3781e4629d70",
   "metadata": {},
   "source": [
    "## Video aus Datei einlesen"
   ]
  },
  {
   "cell_type": "code",
   "execution_count": 3,
   "id": "7229cdd1-a335-4b39-a5c1-59045b5f6832",
   "metadata": {},
   "outputs": [],
   "source": [
    "cap = cv2.VideoCapture(\"../../Pictures/data/vtest.avi\")\n",
    "\n",
    "while(cap.isOpened()):\n",
    "    ret, frame = cap.read()\n",
    "\n",
    "    if ret == True:\n",
    "        cv2.imshow('video', frame)\n",
    "\n",
    "        if cv2.waitKey(1) & 0xFF == ord('q'):\n",
    "            break\n",
    "    else:\n",
    "        break\n",
    "cap.release()\n",
    "cv2.destroyAllWindows()"
   ]
  },
  {
   "cell_type": "markdown",
   "id": "c37f23f3-8e64-422e-81d8-506427b05a0f",
   "metadata": {},
   "source": [
    "## Jeden Frame eines Videos speichern"
   ]
  },
  {
   "cell_type": "code",
   "execution_count": 3,
   "id": "664f952c-d4ee-4594-a352-1784b4b9c14c",
   "metadata": {},
   "outputs": [],
   "source": [
    "cap = cv2.VideoCapture(\"../../Pictures/videos/Wildlife.wmv\")\n",
    "i = 0\n",
    "while(cap.isOpened()):\n",
    "    ret, frame = cap.read()\n",
    "    cv2.imwrite(\"../../Pictures/videos/Wildlife\"+str(i)+\".png\",frame)\n",
    "    i += 1\n",
    "    if ret == True:\n",
    "        cv2.imshow('video', frame)\n",
    "\n",
    "        if cv2.waitKey(1) & 0xFF == ord('q'):\n",
    "            break\n",
    "    else:\n",
    "        break\n",
    "cap.release()\n",
    "cv2.destroyAllWindows()"
   ]
  }
 ],
 "metadata": {
  "kernelspec": {
   "display_name": "Python 3 (ipykernel)",
   "language": "python",
   "name": "python3"
  },
  "language_info": {
   "codemirror_mode": {
    "name": "ipython",
    "version": 3
   },
   "file_extension": ".py",
   "mimetype": "text/x-python",
   "name": "python",
   "nbconvert_exporter": "python",
   "pygments_lexer": "ipython3",
   "version": "3.10.13"
  }
 },
 "nbformat": 4,
 "nbformat_minor": 5
}
