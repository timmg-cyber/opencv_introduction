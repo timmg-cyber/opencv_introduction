{
 "cells": [
  {
   "cell_type": "code",
   "execution_count": 8,
   "id": "ffc9afaf-242d-44ef-a312-575a8e20e86f",
   "metadata": {},
   "outputs": [],
   "source": [
    "import cv2\n",
    "import datetime"
   ]
  },
  {
   "cell_type": "markdown",
   "id": "2b38100e-b882-4d59-8ad9-99cb3698a0f7",
   "metadata": {},
   "source": [
    "## Schreiben von Properties als Information auf Videoframes"
   ]
  },
  {
   "cell_type": "code",
   "execution_count": 6,
   "id": "23c2c515-00a4-4bd6-863c-5db23c578b37",
   "metadata": {},
   "outputs": [],
   "source": [
    "cap = cv2.VideoCapture(0)\n",
    "\n",
    "while(cap.isOpened()):\n",
    "    ret, frame = cap.read()\n",
    "\n",
    "    if ret == True:\n",
    "\n",
    "        font = cv2.FONT_HERSHEY_SIMPLEX\n",
    "        text = 'Width: '+ str(cap.get(3))+ ' Height: ' + str(cap.get(4))\n",
    "        text2 = 'Framerate: ' + str(cap.get(5)) + \" FPS\"\n",
    "        frame = cv2.putText(frame, text, (10,50), font, 1, (0,0,255), 1, cv2.LINE_AA)\n",
    "        frame = cv2.putText(frame, text2, (10,90), font, 1, (0,0,255), 1, cv2.LINE_AA)\n",
    "        cv2.imshow('frame', frame)\n",
    "\n",
    "        if cv2.waitKey(1) & 0xFF == ord('q'):\n",
    "            break\n",
    "    else:\n",
    "        break\n",
    "\n",
    "cap.release()\n",
    "cv2.destroyAllWindows()"
   ]
  },
  {
   "cell_type": "markdown",
   "id": "17670b55-e2f9-4623-9312-7dc18a708fc7",
   "metadata": {},
   "source": [
    "## Schreiben von Datumswerten"
   ]
  },
  {
   "cell_type": "code",
   "execution_count": 9,
   "id": "a23c00a2-f43c-485c-9659-cb1c20d294f1",
   "metadata": {},
   "outputs": [],
   "source": [
    "cap = cv2.VideoCapture(0)\n",
    "\n",
    "while(cap.isOpened()):\n",
    "    ret, frame = cap.read()\n",
    "\n",
    "    if ret == True:\n",
    "\n",
    "        font = cv2.FONT_HERSHEY_SIMPLEX\n",
    "        text = str(datetime.datetime.now())\n",
    "        frame = cv2.putText(frame, text, (10,50), font, 1, (0,0,255), 1, cv2.LINE_AA)\n",
    "        cv2.imshow('frame', frame)\n",
    "\n",
    "        if cv2.waitKey(1) & 0xFF == ord('q'):\n",
    "            break\n",
    "    else:\n",
    "        break\n",
    "\n",
    "cap.release()\n",
    "cv2.destroyAllWindows()"
   ]
  },
  {
   "cell_type": "markdown",
   "id": "c611108d-b9f5-45cd-a7bf-efff04ee727a",
   "metadata": {},
   "source": [
    "## Einfügen eines Pfeils"
   ]
  },
  {
   "cell_type": "code",
   "execution_count": 14,
   "id": "08482c06-0953-43b5-ab5d-0c4128b81097",
   "metadata": {},
   "outputs": [],
   "source": [
    "cap = cv2.VideoCapture(0)\n",
    "\n",
    "while(cap.isOpened()):\n",
    "    ret, frame = cap.read()\n",
    "\n",
    "    if ret == True:\n",
    "\n",
    "        font = cv2.FONT_HERSHEY_SIMPLEX\n",
    "        text = str(datetime.datetime.now())\n",
    "        frame = cv2.arrowedLine(frame, (0,350), (250,350), (0,0,255), 5) \n",
    "        cv2.imshow('frame', frame)\n",
    "\n",
    "        if cv2.waitKey(1) & 0xFF == ord('q'):\n",
    "            break\n",
    "    else:\n",
    "        break\n",
    "\n",
    "cap.release()\n",
    "cv2.destroyAllWindows()"
   ]
  }
 ],
 "metadata": {
  "kernelspec": {
   "display_name": "Python 3 (ipykernel)",
   "language": "python",
   "name": "python3"
  },
  "language_info": {
   "codemirror_mode": {
    "name": "ipython",
    "version": 3
   },
   "file_extension": ".py",
   "mimetype": "text/x-python",
   "name": "python",
   "nbconvert_exporter": "python",
   "pygments_lexer": "ipython3",
   "version": "3.10.13"
  }
 },
 "nbformat": 4,
 "nbformat_minor": 5
}
