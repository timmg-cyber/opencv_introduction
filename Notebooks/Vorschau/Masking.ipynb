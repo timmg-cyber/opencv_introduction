{
 "cells": [
  {
   "cell_type": "code",
   "execution_count": 7,
   "id": "21e43479-e92e-4ce7-a715-45f7d3c429b7",
   "metadata": {},
   "outputs": [],
   "source": [
    "import cv2\n",
    "import numpy as np"
   ]
  },
  {
   "cell_type": "code",
   "execution_count": 8,
   "id": "2736bd36-fd27-425c-a997-44a4b254bc02",
   "metadata": {},
   "outputs": [],
   "source": [
    "path = \"../../Pictures/data/squirrel_cls.jpg\""
   ]
  },
  {
   "cell_type": "code",
   "execution_count": 4,
   "id": "46dd0d3b-232c-4112-956a-e2e7fbe82ae4",
   "metadata": {},
   "outputs": [],
   "source": [
    "img = cv2.imread(path)"
   ]
  },
  {
   "cell_type": "code",
   "execution_count": 6,
   "id": "3e17b1c7-d150-4949-a099-61703457a3ec",
   "metadata": {},
   "outputs": [
    {
     "name": "stdout",
     "output_type": "stream",
     "text": [
      "(426, 535)\n"
     ]
    }
   ],
   "source": [
    "print(img.shape[:2])"
   ]
  },
  {
   "cell_type": "code",
   "execution_count": null,
   "id": "06cb3293-3349-4784-82dc-96d9b3044efa",
   "metadata": {},
   "outputs": [],
   "source": [
    "## Mask muss selbe Größe haben wie Bild"
   ]
  },
  {
   "cell_type": "markdown",
   "id": "34cd464b-fd20-4937-8f01-6fd2a17aff4b",
   "metadata": {},
   "source": [
    "## Circle als Mask"
   ]
  },
  {
   "cell_type": "code",
   "execution_count": null,
   "id": "be86d4e6-5e93-46ba-ae15-c87b80f4281c",
   "metadata": {},
   "outputs": [],
   "source": [
    "img = cv2.imread(path)\n",
    "cv2.imshow('squirrel',img)\n",
    "\n",
    "## Leerer schwarzer Hintergrund mit gleicher Größe wie img\n",
    "blank = np.zeros(img.shape[:2], np.uint8)\n",
    "cv2.imshow('Blank', blank)\n",
    "\n",
    "##Malen eines weißen Kreises auf den schwarzen Hintergrund\n",
    "mask = cv2.circle(blank, (img.shape[1]//2, img.shape[0]//2), 100, 255, -1)\n",
    "cv2.imshow('Mask', mask)\n",
    "\n",
    "##Bitwise Operation mit dem mask-Parameter(wird mit sich selbst verglichen)\n",
    "masked = cv2.bitwise_and(img,img, mask=mask)\n",
    "cv2.imshow('Masked Image', masked)\n",
    "\n",
    "cv2.waitKey(0)\n",
    "cv2.destroyAllWindows()"
   ]
  },
  {
   "cell_type": "markdown",
   "id": "63adfd3f-f73e-4786-b214-9542d851c040",
   "metadata": {},
   "source": [
    "## Rectangle als Mask"
   ]
  },
  {
   "cell_type": "code",
   "execution_count": 6,
   "id": "20e135bc-2c29-4e71-9e98-f38b313b0880",
   "metadata": {},
   "outputs": [],
   "source": [
    "img = cv2.imread(path)\n",
    "cv2.imshow('squirrel',img)\n",
    "\n",
    "## Leerer schwarzer Hintergrund mit gleicher Größe wie img\n",
    "blank = np.zeros(img.shape[:2], np.uint8)\n",
    "cv2.imshow('Blank', blank)\n",
    "\n",
    "##Malen eines weißen Rechtecks auf den schwarzen Hintergrund\n",
    "mask = cv2.rectangle(blank, (img.shape[1]//2, img.shape[0]//2), (img.shape[1]//2 + 100, img.shape[0]//2 + 100) , 255, -1)\n",
    "cv2.imshow('Mask', mask)\n",
    "\n",
    "##Bitwise Operation mit dem mask-Parameter(wird mit sich selbst verglichen)\n",
    "masked = cv2.bitwise_and(img,img, mask=mask)\n",
    "cv2.imshow('Masked Image', masked)\n",
    "\n",
    "cv2.waitKey(0)\n",
    "cv2.destroyAllWindows()"
   ]
  }
 ],
 "metadata": {
  "kernelspec": {
   "display_name": "Python 3 (ipykernel)",
   "language": "python",
   "name": "python3"
  },
  "language_info": {
   "codemirror_mode": {
    "name": "ipython",
    "version": 3
   },
   "file_extension": ".py",
   "mimetype": "text/x-python",
   "name": "python",
   "nbconvert_exporter": "python",
   "pygments_lexer": "ipython3",
   "version": "3.10.13"
  }
 },
 "nbformat": 4,
 "nbformat_minor": 5
}
