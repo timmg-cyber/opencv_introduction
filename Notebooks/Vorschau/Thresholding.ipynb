{
 "cells": [
  {
   "cell_type": "code",
   "execution_count": 1,
   "id": "bf60659d-f021-45c4-8de9-9022cd0853bf",
   "metadata": {},
   "outputs": [],
   "source": [
    "import cv2\n",
    "import numpy as np"
   ]
  },
  {
   "cell_type": "code",
   "execution_count": 2,
   "id": "3362ab11-1d8d-4bf8-9bdb-e6a74b5a2fe8",
   "metadata": {},
   "outputs": [],
   "source": [
    "path= \"../../Pictures/data/gradient.png\"\n",
    "path2=\"../../Pictures/data/sudoku.png\""
   ]
  },
  {
   "cell_type": "markdown",
   "id": "f2d59f0a-5ede-47c5-bfa4-7bb283798a22",
   "metadata": {},
   "source": [
    "## Simple Thresholding"
   ]
  },
  {
   "cell_type": "code",
   "execution_count": null,
   "id": "84486c84-708a-425f-931b-bb9ea5abf861",
   "metadata": {},
   "outputs": [],
   "source": [
    "img = cv2.imread(path,0)\n",
    "\n",
    "# cv2.threshold(image,thresh,maxval,type)\n",
    "_, th1 = cv2.threshold(img, 127, 255, cv2.THRESH_BINARY) ## Wenn Pixelwert unter 127 --> 0 , wenn höher (bis 255) dann 1\n",
    "_, th2 = cv2.threshold(img, 127, 255, cv2.THRESH_BINARY_INV) ## Inverse von THRESH_BINARY\n",
    "_, th3 = cv2.threshold(img, 127, 255, cv2.THRESH_TRUNC) ## Bis zum Threshold werden die Pixels nicht verändert, danach bleiben die Pixel immer gleich (127)\n",
    "_, th4 = cv2.threshold(img, 127, 255, cv2.THRESH_TOZERO) ##Alle Pixel bis zur Pixelvalue werden 0, der Rest bleibt gleich\n",
    "_, th5 = cv2.threshold(img, 127, 255, cv2.THRESH_TOZERO_INV) ##Inverse von THRESH_TOZERO\n",
    "\n",
    "cv2.imshow('image', img)\n",
    "cv2.imshow('threshold', th1)\n",
    "cv2.imshow('threshold2',th2)\n",
    "cv2.imshow('threshold3',th3)\n",
    "cv2.imshow('threshold4',th4)\n",
    "cv2.imshow('threshold5',th5)\n",
    "\n",
    "cv2.waitKey(0)\n",
    "cv2.destroyAllWindows()"
   ]
  },
  {
   "cell_type": "markdown",
   "id": "90bfabf6-45b8-40ff-936a-23c19eea38c9",
   "metadata": {},
   "source": [
    "## Adaptive Thresholding"
   ]
  },
  {
   "cell_type": "code",
   "execution_count": 12,
   "id": "68b6db29-e130-43a3-9804-88e83201a49e",
   "metadata": {},
   "outputs": [],
   "source": [
    "img = cv2.imread(path2,0)\n",
    "\n",
    "cv2.imshow(\"image\",img)\n",
    "\n",
    "cv2.waitKey(0)\n",
    "cv2.destroyAllWindows()"
   ]
  },
  {
   "cell_type": "code",
   "execution_count": null,
   "id": "bc013dcd-f07d-4396-ad04-ce9f8022dbd1",
   "metadata": {},
   "outputs": [],
   "source": [
    "## ADAPTIVE_THRESH_MEAN_C\n",
    "#The threshold value is the mean of the neighbourhood area minus the constant C\n",
    "\n",
    "img = cv2.imread(path2,0)\n",
    "\n",
    "#Aufgrund von unterschiedlichen Lichtverhältnissen nicht ausreichend\n",
    "# cv2.threshold(image,thresh,maxval,type)\n",
    "_, th1 = cv2.threshold(img, 127, 255, cv2.THRESH_BINARY) ## Wenn Pixelwert unter 127 --> 0 , wenn höher (bis 255) dann 1\n",
    "\n",
    "## adaptiveThreshold(image,maximumvalue\n",
    "th2 = cv2.adaptiveThreshold(img, 255, cv2.ADAPTIVE_THRESH_MEAN_C, cv2.THRESH_BINARY, 11, 2)\n",
    "\n",
    "cv2.imshow('image', img)\n",
    "cv2.imshow(\"th1\",th1)\n",
    "cv2.imshow(\"th2\",th2)\n",
    "\n",
    "\n",
    "cv2.waitKey(0)\n",
    "cv2.destroyAllWindows()"
   ]
  },
  {
   "cell_type": "code",
   "execution_count": 17,
   "id": "b7ee0d76-0dee-4568-9272-cf59184ca733",
   "metadata": {},
   "outputs": [],
   "source": [
    "## ADAPTIVE_THRESH_GAUSSIAN\n",
    "# The threshold value is a gaussian-weighted sum of the neighbourhood values minus the constant C\n",
    "img = cv2.imread(path2,0)\n",
    "\n",
    "#Aufgrund von unterschiedlichen Lichtverhältnissen nicht ausreichend\n",
    "# cv2.threshold(image,thresh,maxval,type)\n",
    "_, th1 = cv2.threshold(img, 127, 255, cv2.THRESH_BINARY) ## Wenn Pixelwert unter 127 --> 0 , wenn höher (bis 255) dann 1\n",
    "\n",
    "## adaptiveThreshold(image,maximumvalue\n",
    "th2 = cv2.adaptiveThreshold(img,255,cv2.ADAPTIVE_THRESH_GAUSSIAN_C,\\\n",
    "            cv2.THRESH_BINARY,11,2)\n",
    "\n",
    "cv2.imshow('image', img)\n",
    "cv2.imshow(\"th1\",th1)\n",
    "cv2.imshow(\"th2\",th2)\n",
    "\n",
    "\n",
    "cv2.waitKey(0)\n",
    "cv2.destroyAllWindows()"
   ]
  },
  {
   "cell_type": "markdown",
   "id": "be4ad3ca-33af-4453-852b-0e1ecbb9c578",
   "metadata": {},
   "source": [
    "## Mit Blur"
   ]
  },
  {
   "cell_type": "code",
   "execution_count": null,
   "id": "3eb1973a-4244-4320-8af2-32658c87ad2c",
   "metadata": {},
   "outputs": [],
   "source": [
    "## ADAPTIVE_THRESH_GAUSSIAN\n",
    "# The threshold value is a gaussian-weighted sum of the neighbourhood values minus the constant C\n",
    "img = cv2.imread(path2,0)\n",
    "\n",
    "img = cv2.medianBlur(img,5)\n",
    "\n",
    "#Aufgrund von unterschiedlichen Lichtverhältnissen nicht ausreichend\n",
    "# cv2.threshold(image,thresh,maxval,type)\n",
    "_, th1 = cv2.threshold(img, 127, 255, cv2.THRESH_BINARY) ## Wenn Pixelwert unter 127 --> 0 , wenn höher (bis 255) dann 1\n",
    "\n",
    "## adaptiveThreshold(image,maximumvalue\n",
    "th2 = cv2.adaptiveThreshold(img,255,cv2.ADAPTIVE_THRESH_GAUSSIAN_C,\\\n",
    "            cv2.THRESH_BINARY,11,2)\n",
    "\n",
    "cv2.imshow('image', img)\n",
    "cv2.imshow(\"th1\",th1)\n",
    "cv2.imshow(\"th2\",th2)\n",
    "\n",
    "\n",
    "cv2.waitKey(0)\n",
    "cv2.destroyAllWindows()"
   ]
  }
 ],
 "metadata": {
  "kernelspec": {
   "display_name": "Python 3 (ipykernel)",
   "language": "python",
   "name": "python3"
  },
  "language_info": {
   "codemirror_mode": {
    "name": "ipython",
    "version": 3
   },
   "file_extension": ".py",
   "mimetype": "text/x-python",
   "name": "python",
   "nbconvert_exporter": "python",
   "pygments_lexer": "ipython3",
   "version": "3.10.13"
  }
 },
 "nbformat": 4,
 "nbformat_minor": 5
}
