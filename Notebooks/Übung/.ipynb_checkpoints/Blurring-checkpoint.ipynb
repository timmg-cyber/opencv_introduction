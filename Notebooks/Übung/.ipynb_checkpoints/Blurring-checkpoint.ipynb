{
 "cells": [
  {
   "cell_type": "code",
   "execution_count": 1,
   "id": "31d8c828-126b-4ec8-91b2-68a5a0deb1c8",
   "metadata": {},
   "outputs": [],
   "source": [
    "import cv2\n",
    "import numpy as np"
   ]
  },
  {
   "cell_type": "markdown",
   "id": "85142f8a-e0db-480f-9008-05e4e816d292",
   "metadata": {},
   "source": [
    "In diesem Notebook können Sie die verschiedenen Blur-Methoden noch einmal selbst verproben"
   ]
  },
  {
   "cell_type": "markdown",
   "id": "1976fb46-83d3-4a02-98e1-4b80cbcb2d2f",
   "metadata": {},
   "source": [
    "Fügen Sie hierfür den Bildpfad Ihres Bildes in den unten angezeigten Code ein und kommentieren die vorgegebenen Zeilen aus. Passen Sie gerne die Parameter beliebig an und vergleichen die verschiedenen Methoden miteinander."
   ]
  },
  {
   "cell_type": "code",
   "execution_count": null,
   "id": "e99450e1-42ce-49af-b6fb-3716220defd2",
   "metadata": {},
   "outputs": [],
   "source": [
    "path = ##Ihr Pfad\n",
    "\n",
    "filter_size = 7\n",
    "\n",
    "img = cv2.imread(path)\n",
    "cv2.imshow('image', img)\n",
    "\n",
    "gaussian = cv2.GaussianBlur(img,(filter_size,filter_size),0) ## recht passend in den meisten Fällen\n",
    "cv2.imshow('Gaussian_'+str(filter_size),gaussian_3_3)\n",
    "\n",
    "median = cv2.medianBlur(img,filter_size) ##Sollte eher mit kleiner filter_size genutzt werden\n",
    "cv2.imshow('median_'+str(filter_size),median_3_3)\n",
    "\n",
    "average = cv2.blur(img,(filter_size,filter_size))\n",
    "cv2.imshow('average_'+str(filter_size),average_3_3)\n",
    "\n",
    "cv2.waitKey(0)\n",
    "cv2.destroyAllWindows()"
   ]
  }
 ],
 "metadata": {
  "kernelspec": {
   "display_name": "Python 3 (ipykernel)",
   "language": "python",
   "name": "python3"
  },
  "language_info": {
   "codemirror_mode": {
    "name": "ipython",
    "version": 3
   },
   "file_extension": ".py",
   "mimetype": "text/x-python",
   "name": "python",
   "nbconvert_exporter": "python",
   "pygments_lexer": "ipython3",
   "version": "3.10.13"
  }
 },
 "nbformat": 4,
 "nbformat_minor": 5
}
