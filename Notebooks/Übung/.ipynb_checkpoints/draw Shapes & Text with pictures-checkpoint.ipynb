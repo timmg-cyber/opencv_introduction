{
 "cells": [
  {
   "cell_type": "code",
   "execution_count": 1,
   "id": "60f8acbe-0726-4190-af37-90b939cc3879",
   "metadata": {},
   "outputs": [],
   "source": [
    "import cv2\n",
    "import matplotlib.pyplot as plt\n",
    "import numpy as np"
   ]
  },
  {
   "cell_type": "markdown",
   "id": "8d86a519-e171-45e5-a646-5156cdee1eac",
   "metadata": {},
   "source": [
    "In diesem Notebook lernen Sie wie Sie Shapes und Text mit Bildern verwenden."
   ]
  },
  {
   "cell_type": "markdown",
   "id": "328aae4f-4bb0-435d-bdf2-e4b7e0c7961a",
   "metadata": {},
   "source": [
    "Versuchen Sie in dieser Übung das OpenCV-Logo mit Shapes und Text zu zeichnen. Tipp: Schauen Sie den DrawContours-Shape auf der OpenCV Doku nach."
   ]
  },
  {
   "cell_type": "code",
   "execution_count": null,
   "id": "d460c8bf-a7dd-4cda-87d9-b0727823f298",
   "metadata": {},
   "outputs": [],
   "source": [
    "## Ihr Code"
   ]
  }
 ],
 "metadata": {
  "kernelspec": {
   "display_name": "Python 3 (ipykernel)",
   "language": "python",
   "name": "python3"
  },
  "language_info": {
   "codemirror_mode": {
    "name": "ipython",
    "version": 3
   },
   "file_extension": ".py",
   "mimetype": "text/x-python",
   "name": "python",
   "nbconvert_exporter": "python",
   "pygments_lexer": "ipython3",
   "version": "3.10.13"
  }
 },
 "nbformat": 4,
 "nbformat_minor": 5
}
