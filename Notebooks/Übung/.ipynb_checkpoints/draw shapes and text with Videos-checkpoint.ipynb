{
 "cells": [
  {
   "cell_type": "code",
   "execution_count": 1,
   "id": "049bda7f-f16f-4e4d-b02f-ef99efb2f2ed",
   "metadata": {},
   "outputs": [],
   "source": [
    "import cv2\n",
    "import datetime"
   ]
  },
  {
   "cell_type": "markdown",
   "id": "979d0188-b23a-42ac-83e1-90f172fce074",
   "metadata": {},
   "source": [
    "In diesem Notebook lernen Sie wie man Shapes und Text in Live Videos einfügt"
   ]
  },
  {
   "cell_type": "markdown",
   "id": "1188d757-24d6-4e15-abae-b7def487ca80",
   "metadata": {},
   "source": [
    "Fügen Sie die folgenden Elemente in den unten stehenden Code ein:\n",
    "- Datumsanzeige am unteren linken Bildschirmrand\n",
    "- Framerate oben rechts\n",
    "- Auflösung links oben\n",
    "- Pfeil, welcher auf Ihren Kopf zeigt"
   ]
  },
  {
   "cell_type": "code",
   "execution_count": null,
   "id": "67ab2fec-f956-4eaa-9aaf-3d045aa5187e",
   "metadata": {},
   "outputs": [],
   "source": [
    "cap = cv2.VideoCapture(0)\n",
    "\n",
    "while(cap.isOpened()):\n",
    "    ret, frame = cap.read()\n",
    "\n",
    "    if ret == True:\n",
    "\n",
    "        ## Ihr Code\n",
    "        \n",
    "        cv2.imshow('frame', frame)\n",
    "\n",
    "        if cv2.waitKey(1) & 0xFF == ord('q'):\n",
    "            break\n",
    "    else:\n",
    "        break\n",
    "\n",
    "cap.release()\n",
    "cv2.destroyAllWindows()"
   ]
  }
 ],
 "metadata": {
  "kernelspec": {
   "display_name": "Python 3 (ipykernel)",
   "language": "python",
   "name": "python3"
  },
  "language_info": {
   "codemirror_mode": {
    "name": "ipython",
    "version": 3
   },
   "file_extension": ".py",
   "mimetype": "text/x-python",
   "name": "python",
   "nbconvert_exporter": "python",
   "pygments_lexer": "ipython3",
   "version": "3.10.13"
  }
 },
 "nbformat": 4,
 "nbformat_minor": 5
}
