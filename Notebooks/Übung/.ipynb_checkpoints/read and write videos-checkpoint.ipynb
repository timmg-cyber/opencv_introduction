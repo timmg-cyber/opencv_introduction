{
 "cells": [
  {
   "cell_type": "code",
   "execution_count": 1,
   "id": "78b4f22d-85c4-4dd1-bc54-4372eea31e12",
   "metadata": {},
   "outputs": [],
   "source": [
    "import cv2\n",
    "import numpy as np\n",
    "import matplotlib.pyplot as plt"
   ]
  },
  {
   "cell_type": "markdown",
   "id": "a8e17828-f8ea-4088-adce-23f4afe7bb6d",
   "metadata": {},
   "source": [
    "In diesem Notebook lernen Sie die Handhabung von Live-Videos und Videodateien mit OpenCV kennen, sowie die Bearbeitung von einzelnen Frames."
   ]
  },
  {
   "cell_type": "markdown",
   "id": "a18c0020-1487-4074-b316-78770921cb7e",
   "metadata": {},
   "source": [
    "Im Folgenden ist while-loop abgebildet, welcher abgebrochen wird, wenn die Taste 'q' auf dem Keyboard gedrückt wird und daraufhin alle Ressourcen freigibt und Fenster schließt.\n",
    "Fügen Sie dem While-Loop nacheinander folgende Codeabschnitte hinzu:\n",
    "- Einfügen einer Instanz der VideoCapture-Klasse mit der Auswahl für die default-Webcam (0 oder -1)\n",
    "- Einlesen des aktuellen Frames mit Rückgabewert\n",
    "- Anzeigen des eingelesenen Frames\n",
    "- Color Conversion von BGR zu GRAYSCALE\n",
    "- Bearbeiten der Framerate und der Auflösung anhand des set-Parameters"
   ]
  },
  {
   "cell_type": "code",
   "execution_count": null,
   "id": "5bcf5acd-b540-44dc-9c55-0798782c8805",
   "metadata": {},
   "outputs": [],
   "source": [
    "while(True):\n",
    "    \n",
    "    \n",
    "    ## Ihr Code\n",
    "\n",
    "    if cv2.waitKey(1) & 0xFF == ord('q'):\n",
    "        break\n",
    "cap.release()\n",
    "cv2.destroyAllWindows()"
   ]
  },
  {
   "cell_type": "markdown",
   "id": "07a6f893-1743-4692-a48a-144428071130",
   "metadata": {},
   "source": [
    "Sie wollen nun die ersten 30 Frames eines Videos in ein Grayscale-Video konvertieren und auf Ihrem Rechner speichern. Ergänzen Sie den unten stehenden Code dahingehend."
   ]
  },
  {
   "cell_type": "code",
   "execution_count": null,
   "id": "0586dfd6-e9bd-4348-88bb-e6119a85b894",
   "metadata": {},
   "outputs": [],
   "source": [
    "path = ##Pfad zu Ihrem Video\n",
    "cap = cv2.VideoCapture(path) \n",
    "\n",
    "fourcc = cv2.VideoWriter_fourcc(*'XVID')\n",
    "out = cv2.VideoWriter('output.avi', fourcc, 15, (640,480),0) # filename, codec, framrate, width/height\n",
    "\n",
    "while(cap.isOpened()):\n",
    "    ret, frame = cap.read() # frame ist aktuelles Bild, ret = Boolean ob Bild vorhanden ist oder nicht\n",
    "\n",
    "    if ret == True:\n",
    "        ##Ihr Code\n",
    "        \n",
    "        if cv2.waitKey(1) & 0xFF == ord('q'):\n",
    "            break\n",
    "    else:\n",
    "        break\n",
    "cap.release()\n",
    "out.release()\n",
    "cv2.destroyAllWindows()"
   ]
  }
 ],
 "metadata": {
  "kernelspec": {
   "display_name": "Python 3 (ipykernel)",
   "language": "python",
   "name": "python3"
  },
  "language_info": {
   "codemirror_mode": {
    "name": "ipython",
    "version": 3
   },
   "file_extension": ".py",
   "mimetype": "text/x-python",
   "name": "python",
   "nbconvert_exporter": "python",
   "pygments_lexer": "ipython3",
   "version": "3.10.13"
  }
 },
 "nbformat": 4,
 "nbformat_minor": 5
}
