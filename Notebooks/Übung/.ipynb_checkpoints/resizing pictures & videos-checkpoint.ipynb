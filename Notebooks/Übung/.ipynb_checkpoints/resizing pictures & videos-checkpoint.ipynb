{
 "cells": [
  {
   "cell_type": "code",
   "execution_count": 1,
   "id": "2cb8c32a-50b8-4815-8b64-d7c45a9a6f59",
   "metadata": {},
   "outputs": [],
   "source": [
    "import cv2\n",
    "import matplotlib.pyplot as plt"
   ]
  },
  {
   "cell_type": "markdown",
   "id": "d5dd757e-60b2-4f89-88b6-a18ded400a23",
   "metadata": {},
   "source": [
    "In diesem Notebook lernen Sie wie man Bilder vergrößert/verkleinert mit Resizing / Rescaling"
   ]
  },
  {
   "cell_type": "markdown",
   "id": "315a43d9-1b69-4975-ad0b-4c8380a7ce5f",
   "metadata": {},
   "source": [
    "Lesen Sie Ihr Bild mit der imread()-Methode ein"
   ]
  },
  {
   "cell_type": "code",
   "execution_count": null,
   "id": "7a631085-5deb-4144-811e-f1598e039e20",
   "metadata": {},
   "outputs": [],
   "source": [
    "path = ##Ihr Pfad\n",
    "## Ihr Code"
   ]
  },
  {
   "cell_type": "markdown",
   "id": "3d80d967-0323-4206-8bd2-d437e2204adb",
   "metadata": {},
   "source": [
    "Lassen Sie sich shape & size ausgeben"
   ]
  },
  {
   "cell_type": "code",
   "execution_count": 2,
   "id": "7642607a-bc42-4a94-95ad-b955568c9c4a",
   "metadata": {},
   "outputs": [],
   "source": [
    "## Ihr Code"
   ]
  },
  {
   "cell_type": "markdown",
   "id": "e9a234d6-0d18-463b-8585-fed6797598ec",
   "metadata": {},
   "source": [
    "Schreiben Sie eine Methode welche ein Bild und eine Dezimalzahl als Eingabeparameter nimmt und wenden Sie ein Rescaling auf das übergebene Bild an. Als Rückgabewert soll Ihr verarbeitetes Bild übergeben werden"
   ]
  },
  {
   "cell_type": "code",
   "execution_count": null,
   "id": "1c622c5a-a26b-4b8d-adcd-fcd31010fdd9",
   "metadata": {},
   "outputs": [],
   "source": [
    "def rescaling():\n",
    "    return rescaled_img"
   ]
  },
  {
   "cell_type": "markdown",
   "id": "65989a9a-ded6-4183-9919-bede46626369",
   "metadata": {},
   "source": [
    "Wenden Sie Ihre Methode auf das zuvor eingelesene Bild an und vergrößern Sie das Bild um 50%."
   ]
  },
  {
   "cell_type": "code",
   "execution_count": null,
   "id": "0c3c8231-87d4-44d0-893f-ee9ceb3f22a1",
   "metadata": {},
   "outputs": [],
   "source": [
    "## Ihr Code"
   ]
  }
 ],
 "metadata": {
  "kernelspec": {
   "display_name": "Python 3 (ipykernel)",
   "language": "python",
   "name": "python3"
  },
  "language_info": {
   "codemirror_mode": {
    "name": "ipython",
    "version": 3
   },
   "file_extension": ".py",
   "mimetype": "text/x-python",
   "name": "python",
   "nbconvert_exporter": "python",
   "pygments_lexer": "ipython3",
   "version": "3.10.13"
  }
 },
 "nbformat": 4,
 "nbformat_minor": 5
}
