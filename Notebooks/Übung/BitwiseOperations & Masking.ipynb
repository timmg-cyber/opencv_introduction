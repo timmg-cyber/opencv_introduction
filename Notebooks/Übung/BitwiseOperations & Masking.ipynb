{
 "cells": [
  {
   "cell_type": "code",
   "execution_count": 21,
   "id": "0842cfb3-91ef-4a1d-bb58-44e10baae541",
   "metadata": {},
   "outputs": [],
   "source": [
    "import cv2\n",
    "import numpy as np"
   ]
  },
  {
   "cell_type": "markdown",
   "id": "9f7eec1e-4214-47e7-9476-392ca19b73d9",
   "metadata": {},
   "source": [
    "In diesem Notebook können Sie Masking in Kombination mit BitwiseOperations ausprobieren"
   ]
  },
  {
   "cell_type": "markdown",
   "id": "4ce95867-207b-480a-ae17-3161639983ae",
   "metadata": {},
   "source": [
    "Lesen Sie die apple und apple_1 Bilder ein "
   ]
  },
  {
   "cell_type": "code",
   "execution_count": 22,
   "id": "3995c44f-0b9f-4fdd-b3ae-047612372c9a",
   "metadata": {},
   "outputs": [],
   "source": [
    "path = \"../../Pictures/examples/apple.jpg\" ## Ihr Pfad ist anders\n",
    "path2 = \"../../Pictures/examples/apple_1.jpg\" ## Ihr Pfad ist anders\n",
    "## Ihr Code"
   ]
  },
  {
   "cell_type": "markdown",
   "id": "461af2f1-0e1a-4601-9a2a-634cd4d4bfc2",
   "metadata": {},
   "source": [
    "Extrahieren Sie aus dem apple.jpg die Maske und benutzen diese um zusammen mit einer Bitwise-Operation den Apfel auszuschneiden"
   ]
  },
  {
   "cell_type": "code",
   "execution_count": 23,
   "id": "46eab2ec-17a3-4064-ae2e-8c2dd7ad83b7",
   "metadata": {},
   "outputs": [],
   "source": [
    "## Ihr Code\n",
    "\n",
    "cv2.imshow('image',img)\n",
    "cv2.imshow('mask',masked)\n",
    "cv2.waitKey(0)\n",
    "cv2.destroyAllWindows()"
   ]
  }
 ],
 "metadata": {
  "kernelspec": {
   "display_name": "Python 3 (ipykernel)",
   "language": "python",
   "name": "python3"
  },
  "language_info": {
   "codemirror_mode": {
    "name": "ipython",
    "version": 3
   },
   "file_extension": ".py",
   "mimetype": "text/x-python",
   "name": "python",
   "nbconvert_exporter": "python",
   "pygments_lexer": "ipython3",
   "version": "3.10.13"
  }
 },
 "nbformat": 4,
 "nbformat_minor": 5
}
