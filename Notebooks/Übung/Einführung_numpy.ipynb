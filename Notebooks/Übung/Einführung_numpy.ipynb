{
 "cells": [
  {
   "cell_type": "code",
   "execution_count": 2,
   "id": "90fd6f2d-7aab-4dd5-9467-528698acade7",
   "metadata": {},
   "outputs": [],
   "source": [
    "import numpy as np\n",
    "import matplotlib.pyplot as plt"
   ]
  },
  {
   "cell_type": "markdown",
   "id": "9a5a1aab-5656-4a8e-a984-ac6d2ee1ee16",
   "metadata": {},
   "source": [
    "##### Numpy-Arrays"
   ]
  },
  {
   "cell_type": "markdown",
   "id": "2115c1a5-2afd-46b6-8e8d-a9df1b4a8e20",
   "metadata": {},
   "source": [
    "In dieser Übung können Sie die grundlegenden numpy-Funktionen noch einmal kurz selbst verproben"
   ]
  },
  {
   "cell_type": "markdown",
   "id": "b1751f7a-c909-43ba-a71f-32edb2683803",
   "metadata": {},
   "source": [
    "Wandeln Sie die Liste in ein numpy-array um"
   ]
  },
  {
   "cell_type": "code",
   "execution_count": null,
   "id": "858127a6-da11-4289-8af1-6f1d914517c6",
   "metadata": {},
   "outputs": [],
   "source": [
    "weight_kg = [81.65, 97.52, 95.25, 92.98, 86.18, 88.45]\n",
    "##Ihr Code"
   ]
  },
  {
   "cell_type": "markdown",
   "id": "bbec32ce-a67d-45ac-bd12-2773c21c1a2e",
   "metadata": {},
   "source": [
    "Konvertieren Sie die Gewichtsangaben in dem neuen numpy-array von Kg zu pounds (2.2 lbs / kg) und speichern Sie das Ergebnis in einem neuen numpy-array"
   ]
  },
  {
   "cell_type": "code",
   "execution_count": null,
   "id": "067dcdb6-b9f4-44b9-a1aa-b856afc863b3",
   "metadata": {},
   "outputs": [],
   "source": [
    "pounds = ##Ihr Code"
   ]
  },
  {
   "cell_type": "markdown",
   "id": "8fe4820d-9715-4142-8919-fd5e01ceb76e",
   "metadata": {},
   "source": [
    "##### Bildbearbeitung mit numpy"
   ]
  },
  {
   "cell_type": "markdown",
   "id": "c593bdeb-53b9-4723-8a9b-308cbffc9b21",
   "metadata": {},
   "source": [
    "Erstellen Sie ein leeres Array mit dem Shape 128x128x3 und dem Datentyp uint8"
   ]
  },
  {
   "cell_type": "code",
   "execution_count": null,
   "id": "f4e4f4cf-f405-47c3-ba00-83b1591771b9",
   "metadata": {},
   "outputs": [],
   "source": [
    "img = ## Ihr Code"
   ]
  },
  {
   "cell_type": "markdown",
   "id": "cda37dee-11dd-4f87-9927-2d6059bab157",
   "metadata": {},
   "source": [
    "Lassen Sie es sich mithilfe der plt.imshow()-Methode anzeigen"
   ]
  },
  {
   "cell_type": "code",
   "execution_count": null,
   "id": "ef3299c0-7155-4343-b5b5-c34b7b81b40b",
   "metadata": {},
   "outputs": [],
   "source": [
    "## Ihr Code"
   ]
  },
  {
   "cell_type": "markdown",
   "id": "246a81c9-b43d-4bca-bdb5-94b3c35ef451",
   "metadata": {},
   "source": [
    "Versuchen Sie nun mit Indexing und Wertzuweisung einen geschlossenen Mund mit zwei rechteckigen Augen darauf zu zeichnen"
   ]
  },
  {
   "cell_type": "code",
   "execution_count": null,
   "id": "648e40ef-88e9-48e1-af73-d336f65fb73a",
   "metadata": {},
   "outputs": [],
   "source": [
    "## Ihr Code"
   ]
  }
 ],
 "metadata": {
  "kernelspec": {
   "display_name": "Python 3 (ipykernel)",
   "language": "python",
   "name": "python3"
  },
  "language_info": {
   "codemirror_mode": {
    "name": "ipython",
    "version": 3
   },
   "file_extension": ".py",
   "mimetype": "text/x-python",
   "name": "python",
   "nbconvert_exporter": "python",
   "pygments_lexer": "ipython3",
   "version": "3.10.13"
  }
 },
 "nbformat": 4,
 "nbformat_minor": 5
}
