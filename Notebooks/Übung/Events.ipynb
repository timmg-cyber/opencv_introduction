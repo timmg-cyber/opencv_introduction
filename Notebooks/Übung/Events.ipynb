{
 "cells": [
  {
   "cell_type": "code",
   "execution_count": null,
   "id": "66488f46-34c0-48ab-a14d-83d22fca1d33",
   "metadata": {},
   "outputs": [],
   "source": [
    "import cv2\n",
    "import numpy as np"
   ]
  },
  {
   "cell_type": "markdown",
   "id": "3535ee01-b76e-4d11-b2ff-5b1998d9c54e",
   "metadata": {},
   "source": [
    "## Kombinieren von Events mit vorher gelernten Methode zur Erstellung simpler Tools"
   ]
  },
  {
   "cell_type": "markdown",
   "id": "18f04c55-c3c0-4f4b-bcaf-126ac9152fcd",
   "metadata": {},
   "source": [
    "In diesen 2 Übungen werden nun die vorher veranschaulichten Methoden verprobt und miteinander kombiniert. Falls Sie die ein oder andere Methode noch einmal nachschlagen wollen, können Sie dies gerne in den \"Vorschau\"-Notebooks machen."
   ]
  },
  {
   "cell_type": "markdown",
   "id": "796d3dde-8577-4661-a346-9361e2904787",
   "metadata": {},
   "source": [
    "### 1) Einfaches Linienzeichentool"
   ]
  },
  {
   "cell_type": "markdown",
   "id": "a430094c-d719-4fd7-917b-6d8705234a16",
   "metadata": {},
   "source": [
    "Versuchen Sie mithilfe der Mausevents ein einfaches Zeichentool zu erstellen. Die Funktionsweise lautet wie folgt:\n",
    "Eine Zeichnung ist eine Verbindung mehrerer Linien. Deswegen ist es unser Ziel immer wenn wir mit der Maus klicken einen Kreis zeichnen und wenn möglich zwei Linien miteinander zu verbinden. Dies erfordert zum Einen die Speicherung vorheriger Koordinaten, welche dann genutzt werden und eine dynamische click_event Methode, welche neue Punkte mit vorherigen verbinden kann. Als Zeichenelement werden lediglich die cv2.circle() und die cv2.line()-Methode genutzt."
   ]
  },
  {
   "cell_type": "code",
   "execution_count": null,
   "id": "14965e3c-6ac1-40c4-980e-ba697e436004",
   "metadata": {},
   "outputs": [],
   "source": [
    "## click-event Methode\n",
    "def click_event(event, x, y, flags, param): #Callback function für Eventlistener\n",
    "    if event == cv2.EVENT_LBUTTONDOWN:\n",
    "        ##Ihr Code\n",
    "    \n",
    "\n",
    "img = np.zeros((512,512,3),np.uint8)\n",
    "cv2.imshow('image', img)\n",
    "\n",
    "cv2.setMouseCallback('image', click_event)\n",
    "\n",
    "cv2.waitKey(0)\n",
    "cv2.destroyAllWindows()"
   ]
  },
  {
   "cell_type": "markdown",
   "id": "eba1ceb9-4d68-4b43-a6b9-0f52f3dd89a1",
   "metadata": {},
   "source": [
    "### 2) Color Picker"
   ]
  },
  {
   "cell_type": "markdown",
   "id": "724b1524-20a6-4557-bfc6-45ac23c5f92c",
   "metadata": {},
   "source": [
    "Wer kennt es nicht, man möchte eine bestimmte Farbe für seine Power-Point Folien oder Word-Datei und weiß aber nicht genau wie sich die Farbe zusammensetzt. Hier kommt der Color Picker ins Spiel. Meistens in Form einer Pipette, ermöglicht er es, die gesehenen Farben im RGB-Schema anzuzeigen.\n",
    "Wir versuchen jetzt die Mouse-click Events dafür zu nutzen einen solchen Color-Picker zu erstellen. Die Funktionsweise lautet wie folgt:\n",
    "man lädt ein beliebiges Farbbild und jedes mal wenn man mit der Maus auf eine bestimmte Stelle auf dem Bild klickt, soll ein neues Fenster aufgehen, welches die gewünschte Farbe enthält. Das RGB-Schema soll in der Konsole geprintet werden."
   ]
  },
  {
   "cell_type": "code",
   "execution_count": null,
   "id": "554cea1e-3587-4cd0-810b-6dfcd0f7a99f",
   "metadata": {},
   "outputs": [],
   "source": [
    "## click-event Methode\n",
    "def click_event(event, x, y, flags, param): #Callback function für Eventlistener\n",
    "    if event == cv2.EVENT_LBUTTONDOWN:\n",
    "        ##Ihr Code\n",
    "    \n",
    "\n",
    "img = cv2.imread(##Ihr Pfad)\n",
    "cv2.imshow('image', img)\n",
    "cv2.setMouseCallback('image', click_event)\n",
    "\n",
    "cv2.waitKey(0)\n",
    "cv2.destroyAllWindows()"
   ]
  }
 ],
 "metadata": {
  "kernelspec": {
   "display_name": "Python 3 (ipykernel)",
   "language": "python",
   "name": "python3"
  },
  "language_info": {
   "codemirror_mode": {
    "name": "ipython",
    "version": 3
   },
   "file_extension": ".py",
   "mimetype": "text/x-python",
   "name": "python",
   "nbconvert_exporter": "python",
   "pygments_lexer": "ipython3",
   "version": "3.10.13"
  }
 },
 "nbformat": 4,
 "nbformat_minor": 5
}
