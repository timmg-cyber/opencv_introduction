{
 "cells": [
  {
   "cell_type": "code",
   "execution_count": 2,
   "id": "e9084e4d-acea-4721-b690-7568fff7eb36",
   "metadata": {},
   "outputs": [],
   "source": [
    "import cv2\n",
    "import numpy as np"
   ]
  },
  {
   "cell_type": "markdown",
   "id": "2d091ee3-a70c-4c39-9520-9f465402ff89",
   "metadata": {},
   "source": [
    "In diesem Notebook lernen Sie Thresholding-Methoden zum extrahieren relevanter Bildobjekte zu nutzen"
   ]
  },
  {
   "cell_type": "markdown",
   "id": "b8e87c6e-6900-4199-9405-430c2490f37b",
   "metadata": {},
   "source": [
    "Lesen Sie die black_apple.jpg-Datei aus dem Quellordner ein und zeigen Sie diese mit der imshow()-Methode an "
   ]
  },
  {
   "cell_type": "code",
   "execution_count": null,
   "id": "e2e8da1f-921a-439c-abc6-af2fb0e19044",
   "metadata": {},
   "outputs": [],
   "source": [
    "path = \"../../Pictures/examples/Thresholding_image.jpg\" ##Ihr Pfad wird anders sein\n",
    "img = cv2.imread(path)\n",
    "##Ihr Code\n",
    "cv2.waitKey(0)\n",
    "cv2.destroyAllWindows()"
   ]
  },
  {
   "cell_type": "markdown",
   "id": "6ba18454-bae1-403f-847b-d39b594a89bf",
   "metadata": {},
   "source": [
    "Versuchen Sie so viel wie möglich von den Äpfeln mit den gelernten Thresholding-Techniken zu erfassen. Nutzen Sie hierfür sowohl SimpleThresholding-Methoden, sowie AdaptiveThresholding. Versuchen Sie dafür mehrere Kombinationen der Parameter aus."
   ]
  },
  {
   "cell_type": "code",
   "execution_count": null,
   "id": "1a3889a6-d6e6-4df9-97a2-c369a501a883",
   "metadata": {},
   "outputs": [],
   "source": [
    "## Ihr Code"
   ]
  }
 ],
 "metadata": {
  "kernelspec": {
   "display_name": "Python 3 (ipykernel)",
   "language": "python",
   "name": "python3"
  },
  "language_info": {
   "codemirror_mode": {
    "name": "ipython",
    "version": 3
   },
   "file_extension": ".py",
   "mimetype": "text/x-python",
   "name": "python",
   "nbconvert_exporter": "python",
   "pygments_lexer": "ipython3",
   "version": "3.10.13"
  }
 },
 "nbformat": 4,
 "nbformat_minor": 5
}
