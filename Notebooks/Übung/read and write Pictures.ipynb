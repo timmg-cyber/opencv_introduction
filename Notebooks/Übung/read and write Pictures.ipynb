{
 "cells": [
  {
   "cell_type": "code",
   "execution_count": 1,
   "id": "2525f92b-a827-4f6f-9744-a42756cefd94",
   "metadata": {},
   "outputs": [],
   "source": [
    "import cv2\n",
    "import matplotlib.pyplot as plt\n",
    "import numpy as np"
   ]
  },
  {
   "cell_type": "markdown",
   "id": "3d7f97ba-a9c7-4e0f-80d0-60cf21370703",
   "metadata": {},
   "source": [
    "##### Lesen / Anzeigen"
   ]
  },
  {
   "cell_type": "markdown",
   "id": "a0319e21-d807-481e-a2f7-5883eb8f8ab1",
   "metadata": {},
   "source": [
    "Lesen Sie ein beliebiges Bild mit der cv2.imread()-Methode ein. Stellen Sie sicher, dass es als Farbbild eingelesen wird"
   ]
  },
  {
   "cell_type": "code",
   "execution_count": null,
   "id": "6e4a9780-64b0-4ea6-b2e1-ea852eee1e0f",
   "metadata": {},
   "outputs": [],
   "source": [
    "## Ihr Code"
   ]
  },
  {
   "cell_type": "markdown",
   "id": "735f4be8-6696-4e91-a006-1a19dab18991",
   "metadata": {},
   "source": [
    "Lassen Sie sich das Bild in einem Fenster ausgeben. Achten Sie darauf, alle Ressourcen nach dem Schließen des Fensters wieder freizugeben"
   ]
  },
  {
   "cell_type": "code",
   "execution_count": null,
   "id": "9c18cc1b-dccb-4207-8237-060bd7f4b3e2",
   "metadata": {},
   "outputs": [],
   "source": [
    "## Ihr Code"
   ]
  },
  {
   "cell_type": "markdown",
   "id": "68d03b3c-55ab-4bd9-91d6-6deca9fd34a2",
   "metadata": {},
   "source": [
    "Geben Sie Datentyp, shape und Auflösung mit der print()-Methode aus"
   ]
  },
  {
   "cell_type": "code",
   "execution_count": null,
   "id": "a7ed5205-8467-4abe-8d37-152738cec430",
   "metadata": {},
   "outputs": [],
   "source": [
    "## Ihr Code"
   ]
  },
  {
   "cell_type": "markdown",
   "id": "01167d57-f4bc-411d-bd4c-74b27c2a2041",
   "metadata": {},
   "source": [
    "##### Bearbeiten / Speichern"
   ]
  },
  {
   "cell_type": "markdown",
   "id": "e62941de-f05d-4a02-97ac-d98df071c22f",
   "metadata": {},
   "source": [
    "Erstellen Sie nun einen schwarzen Hintergrund mit der Auflösung 512x512x3 und dem passenden Datentyp"
   ]
  },
  {
   "cell_type": "code",
   "execution_count": null,
   "id": "7a2e6618-d8d9-456c-8491-7604d36a14d0",
   "metadata": {},
   "outputs": [],
   "source": [
    "## Ihr Code"
   ]
  },
  {
   "cell_type": "markdown",
   "id": "eebcb041-0b28-4bcb-9255-51f259f5a009",
   "metadata": {},
   "source": [
    "Lassen Sie sich den Hintergrund mit der imshow()-Methode ausgeben"
   ]
  },
  {
   "cell_type": "code",
   "execution_count": null,
   "id": "5a801703-cf58-48c8-a38e-bd7b0e8fcc46",
   "metadata": {},
   "outputs": [],
   "source": [
    "## Ihr Code"
   ]
  },
  {
   "cell_type": "markdown",
   "id": "be89fbd5-afa2-44af-965f-8b54e3bb3d2b",
   "metadata": {},
   "source": [
    "Versuchen Sie aus dem schwarzen Hintergrund eine Flagge (z.B.: Deutsch oder Belgisch) zu machen und diese als Datei auf Ihrem System zu speichern"
   ]
  },
  {
   "cell_type": "code",
   "execution_count": null,
   "id": "cd532d3b-e194-4813-93f3-b068ea0331a5",
   "metadata": {},
   "outputs": [],
   "source": [
    "## Ihr Code"
   ]
  }
 ],
 "metadata": {
  "kernelspec": {
   "display_name": "Python 3 (ipykernel)",
   "language": "python",
   "name": "python3"
  },
  "language_info": {
   "codemirror_mode": {
    "name": "ipython",
    "version": 3
   },
   "file_extension": ".py",
   "mimetype": "text/x-python",
   "name": "python",
   "nbconvert_exporter": "python",
   "pygments_lexer": "ipython3",
   "version": "3.10.13"
  }
 },
 "nbformat": 4,
 "nbformat_minor": 5
}
